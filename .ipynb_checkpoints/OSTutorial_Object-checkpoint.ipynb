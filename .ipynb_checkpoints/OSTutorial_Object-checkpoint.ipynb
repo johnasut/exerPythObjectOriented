{
 "cells": [
  {
   "cell_type": "code",
   "execution_count": 1,
   "metadata": {},
   "outputs": [],
   "source": [
    "class Player_Characters:\n",
    "    pass"
   ]
  },
  {
   "cell_type": "code",
   "execution_count": 2,
   "metadata": {},
   "outputs": [
    {
     "name": "stdout",
     "output_type": "stream",
     "text": [
      "<__main__.Player_Character object at 0x00000274410B5C88>\n",
      "<__main__.Player_Character object at 0x00000274410B5CC8>\n"
     ]
    }
   ],
   "source": [
    "class Player_Character:\n",
    "    pass\n",
    "\n",
    "pc_1 = Player_Character()\n",
    "pc_2 = Player_Character()\n",
    "\n",
    "print(pc_1)\n",
    "print(pc_2)"
   ]
  },
  {
   "cell_type": "code",
   "execution_count": 4,
   "metadata": {},
   "outputs": [
    {
     "name": "stdout",
     "output_type": "stream",
     "text": [
      "<__main__.Player_Character object at 0x00000274410BB488>\n",
      "<__main__.Player_Character object at 0x00000274410BB4C8>\n",
      "Rexthor the Barbarian: D&D 3.5 Ed\n",
      "Gandalf the Wizard: D&D 3.5 Ed\n"
     ]
    }
   ],
   "source": [
    "class Player_Character:\n",
    "    pass\n",
    "\n",
    "pc_1 = Player_Character()\n",
    "pc_2 = Player_Character()\n",
    "\n",
    "print(pc_1)\n",
    "print(pc_2)\n",
    "\n",
    "# Would not let me use \"pc_1.class\" so I had to call it a profession\n",
    "pc_1.name = 'Rexthor'\n",
    "pc_1.profession = 'Barbarian'\n",
    "pc_1.edition = 'Rexthor the Barbarian: D&D 3.5 Ed'\n",
    "pc_1.level = 5\n",
    "\n",
    "pc_2.name = 'Gandalf'\n",
    "pc_2.profession = 'Wizard'\n",
    "pc_2.edition = 'Gandalf the Wizard: D&D 3.5 Ed'\n",
    "pc_2.level = 8\n",
    "\n",
    "print(pc_1.edition)\n",
    "print(pc_2.edition)"
   ]
  },
  {
   "cell_type": "code",
   "execution_count": 5,
   "metadata": {},
   "outputs": [
    {
     "name": "stdout",
     "output_type": "stream",
     "text": [
      "Rexthor the Barbarian: D&D 3.5 Ed\n",
      "Gandalf the Wizard: D&D 3.5 Ed\n"
     ]
    }
   ],
   "source": [
    "class Player_Character:\n",
    "    \n",
    "    def __init__(self, name, profession, level):\n",
    "        self.name = name\n",
    "        self.profession = profession\n",
    "        self.level = level\n",
    "        self.edition = name + ' the ' + profession + ': D&D 3.5 Ed'\n",
    "        \n",
    "\n",
    "pc_1 = Player_Character('Rexthor', 'Barbarian', 5)\n",
    "pc_2 = Player_Character('Gandalf', 'Wizard', 8)\n",
    "\n",
    "# print(pc_1)\n",
    "# print(pc_2)\n",
    "\n",
    "print(pc_1.edition)\n",
    "print(pc_2.edition)"
   ]
  },
  {
   "cell_type": "code",
   "execution_count": 6,
   "metadata": {},
   "outputs": [
    {
     "name": "stdout",
     "output_type": "stream",
     "text": [
      "Rexthor the Barbarian: D&D 3.5 Ed\n",
      "Gandalf the Wizard: D&D 3.5 Ed\n",
      "Rexthor the Barbarian\n"
     ]
    }
   ],
   "source": [
    "class Player_Character:\n",
    "    \n",
    "    def __init__(self, name, profession, exp):\n",
    "        self.name = name\n",
    "        self.profession = profession\n",
    "        self.exp = exp\n",
    "        self.edition = name + ' the ' + profession + ': D&D 3.5 Ed'\n",
    "        \n",
    "\n",
    "pc_1 = Player_Character('Rexthor', 'Barbarian', 1500)\n",
    "pc_2 = Player_Character('Gandalf', 'Wizard', 3852)\n",
    "\n",
    "# print(pc_1)\n",
    "# print(pc_2)\n",
    "\n",
    "print(pc_1.edition)\n",
    "print(pc_2.edition)\n",
    "\n",
    "print('{} the {}'.format(pc_1.name, pc_1.profession))"
   ]
  },
  {
   "cell_type": "code",
   "execution_count": 8,
   "metadata": {},
   "outputs": [
    {
     "name": "stdout",
     "output_type": "stream",
     "text": [
      "Rexthor the Barbarian: D&D 3.5 Ed\n",
      "Gandalf the Wizard: D&D 3.5 Ed\n",
      "Rexthor the Barbarian\n"
     ]
    }
   ],
   "source": [
    "class Player_Character:\n",
    "    \n",
    "    def __init__(self, name, profession, exp):\n",
    "        self.name = name\n",
    "        self.profession = profession\n",
    "        self.exp = exp\n",
    "        self.edition = name + ' the ' + profession + ': D&D 3.5 Ed'\n",
    "        \n",
    "    def charname(self):\n",
    "        return '{} the {}'.format(self.name, self.profession)\n",
    "\n",
    "pc_1 = Player_Character('Rexthor', 'Barbarian', 1500)\n",
    "pc_2 = Player_Character('Gandalf', 'Wizard', 3852)\n",
    "\n",
    "# print(pc_1)\n",
    "# print(pc_2)\n",
    "\n",
    "print(pc_1.edition)\n",
    "print(pc_2.edition)\n",
    "\n",
    "print(pc_1.charname())"
   ]
  },
  {
   "cell_type": "code",
   "execution_count": 9,
   "metadata": {},
   "outputs": [
    {
     "name": "stdout",
     "output_type": "stream",
     "text": [
      "Rexthor the Barbarian: D&D 3.5 Ed\n",
      "Gandalf the Wizard: D&D 3.5 Ed\n",
      "Gandalf the Wizard\n"
     ]
    }
   ],
   "source": [
    "class Player_Character:\n",
    "    \n",
    "    def __init__(self, name, profession, exp):\n",
    "        self.name = name\n",
    "        self.profession = profession\n",
    "        self.exp = exp\n",
    "        self.edition = name + ' the ' + profession + ': D&D 3.5 Ed'\n",
    "        \n",
    "    def charname(self):\n",
    "        return '{} the {}'.format(self.name, self.profession)\n",
    "\n",
    "pc_1 = Player_Character('Rexthor', 'Barbarian', 1500)\n",
    "pc_2 = Player_Character('Gandalf', 'Wizard', 3852)\n",
    "\n",
    "# print(pc_1)\n",
    "# print(pc_2)\n",
    "\n",
    "print(pc_1.edition)\n",
    "print(pc_2.edition)\n",
    "\n",
    "print(pc_2.charname())"
   ]
  },
  {
   "cell_type": "code",
   "execution_count": 10,
   "metadata": {},
   "outputs": [],
   "source": [
    "class Player_Character:\n",
    "    \n",
    "    def __init__(self, name, profession, exp):\n",
    "        self.name = name\n",
    "        self.profession = profession\n",
    "        self.exp = exp\n",
    "        self.edition = name + ' the ' + profession + ': D&D 3.5 Ed'\n",
    "        \n",
    "    def charname():\n",
    "        return '{} the {}'.format(self.name, self.profession)\n",
    "\n",
    "pc_1 = Player_Character('Rexthor', 'Barbarian', 1500)\n",
    "pc_2 = Player_Character('Gandalf', 'Wizard', 3852)\n",
    "\n",
    "# print(pc_1.charname())"
   ]
  },
  {
   "cell_type": "code",
   "execution_count": 11,
   "metadata": {},
   "outputs": [
    {
     "ename": "TypeError",
     "evalue": "charname() takes 0 positional arguments but 1 was given",
     "output_type": "error",
     "traceback": [
      "\u001b[1;31m---------------------------------------------------------------------------\u001b[0m",
      "\u001b[1;31mTypeError\u001b[0m                                 Traceback (most recent call last)",
      "\u001b[1;32m<ipython-input-11-c95df623b65c>\u001b[0m in \u001b[0;36m<module>\u001b[1;34m\u001b[0m\n\u001b[0;32m     13\u001b[0m \u001b[0mpc_2\u001b[0m \u001b[1;33m=\u001b[0m \u001b[0mPlayer_Character\u001b[0m\u001b[1;33m(\u001b[0m\u001b[1;34m'Gandalf'\u001b[0m\u001b[1;33m,\u001b[0m \u001b[1;34m'Wizard'\u001b[0m\u001b[1;33m,\u001b[0m \u001b[1;36m3852\u001b[0m\u001b[1;33m)\u001b[0m\u001b[1;33m\u001b[0m\u001b[1;33m\u001b[0m\u001b[0m\n\u001b[0;32m     14\u001b[0m \u001b[1;33m\u001b[0m\u001b[0m\n\u001b[1;32m---> 15\u001b[1;33m \u001b[0mprint\u001b[0m\u001b[1;33m(\u001b[0m\u001b[0mpc_1\u001b[0m\u001b[1;33m.\u001b[0m\u001b[0mcharname\u001b[0m\u001b[1;33m(\u001b[0m\u001b[1;33m)\u001b[0m\u001b[1;33m)\u001b[0m\u001b[1;33m\u001b[0m\u001b[1;33m\u001b[0m\u001b[0m\n\u001b[0m",
      "\u001b[1;31mTypeError\u001b[0m: charname() takes 0 positional arguments but 1 was given"
     ]
    }
   ],
   "source": [
    "class Player_Character:\n",
    "    \n",
    "    def __init__(self, name, profession, exp):\n",
    "        self.name = name\n",
    "        self.profession = profession\n",
    "        self.exp = exp\n",
    "        self.edition = name + ' the ' + profession + ': D&D 3.5 Ed'\n",
    "        \n",
    "    def charname():\n",
    "        return '{} the {}'.format(self.name, self.profession)\n",
    "\n",
    "pc_1 = Player_Character('Rexthor', 'Barbarian', 1500)\n",
    "pc_2 = Player_Character('Gandalf', 'Wizard', 3852)\n",
    "\n",
    "print(pc_1.charname())"
   ]
  },
  {
   "cell_type": "code",
   "execution_count": 13,
   "metadata": {},
   "outputs": [
    {
     "name": "stdout",
     "output_type": "stream",
     "text": [
      "Rexthor the Barbarian\n"
     ]
    }
   ],
   "source": [
    "class Player_Character:\n",
    "    \n",
    "    def __init__(self, name, profession, exp):\n",
    "        self.name = name\n",
    "        self.profession = profession\n",
    "        self.exp = exp\n",
    "        self.edition = name + ' the ' + profession + ': D&D 3.5 Ed'\n",
    "        \n",
    "    def charname(self):\n",
    "        return '{} the {}'.format(self.name, self.profession)\n",
    "\n",
    "pc_1 = Player_Character('Rexthor', 'Barbarian', 1500)\n",
    "pc_2 = Player_Character('Gandalf', 'Wizard', 3852)\n",
    "\n",
    "print(pc_1.charname())"
   ]
  },
  {
   "cell_type": "code",
   "execution_count": 15,
   "metadata": {},
   "outputs": [
    {
     "name": "stdout",
     "output_type": "stream",
     "text": [
      "Rexthor the Barbarian\n",
      "Rexthor the Barbarian\n"
     ]
    }
   ],
   "source": [
    "class Player_Character:\n",
    "    \n",
    "    def __init__(self, name, profession, exp):\n",
    "        self.name = name\n",
    "        self.profession = profession\n",
    "        self.exp = exp\n",
    "        self.edition = name + ' the ' + profession + ': D&D 3.5 Ed'\n",
    "        \n",
    "    def charname(self):\n",
    "        return '{} the {}'.format(self.name, self.profession)\n",
    "\n",
    "pc_1 = Player_Character('Rexthor', 'Barbarian', 1500)\n",
    "pc_2 = Player_Character('Gandalf', 'Wizard', 3852)\n",
    "\n",
    "print(pc_1.charname())\n",
    "print(Player_Character.charname(pc_1))\n",
    "# print(pc_1.charname())"
   ]
  },
  {
   "cell_type": "code",
   "execution_count": 17,
   "metadata": {},
   "outputs": [
    {
     "name": "stdout",
     "output_type": "stream",
     "text": [
      "1500\n",
      "1600\n"
     ]
    }
   ],
   "source": [
    "class Player_Character:\n",
    "    \n",
    "    def __init__(self, name, profession, exp):\n",
    "        self.name = name\n",
    "        self.profession = profession\n",
    "        self.exp = exp\n",
    "        self.edition = name + ' the ' + profession + ': D&D 3.5 Ed'\n",
    "        \n",
    "    def charname(self):\n",
    "        return '{} the {}'.format(self.name, self.profession)\n",
    "    \n",
    "    def apply_encounter_xp(self):\n",
    "        self.exp = int(self.exp * (1 + (100/self.exp)))\n",
    "\n",
    "pc_1 = Player_Character('Rexthor', 'Barbarian', 1500)\n",
    "pc_2 = Player_Character('Gandalf', 'Wizard', 3852)\n",
    "\n",
    "print(pc_1.exp)\n",
    "pc_1.apply_encounter_xp()\n",
    "print(pc_1.exp)"
   ]
  },
  {
   "cell_type": "code",
   "execution_count": 24,
   "metadata": {},
   "outputs": [
    {
     "name": "stdout",
     "output_type": "stream",
     "text": [
      "1500\n"
     ]
    },
    {
     "ename": "NameError",
     "evalue": "name 'encounter_xp' is not defined",
     "output_type": "error",
     "traceback": [
      "\u001b[1;31m---------------------------------------------------------------------------\u001b[0m",
      "\u001b[1;31mNameError\u001b[0m                                 Traceback (most recent call last)",
      "\u001b[1;32m<ipython-input-24-3f5b517675fe>\u001b[0m in \u001b[0;36m<module>\u001b[1;34m\u001b[0m\n\u001b[0;32m     19\u001b[0m \u001b[1;33m\u001b[0m\u001b[0m\n\u001b[0;32m     20\u001b[0m \u001b[0mprint\u001b[0m\u001b[1;33m(\u001b[0m\u001b[0mpc_1\u001b[0m\u001b[1;33m.\u001b[0m\u001b[0mexp\u001b[0m\u001b[1;33m)\u001b[0m\u001b[1;33m\u001b[0m\u001b[1;33m\u001b[0m\u001b[0m\n\u001b[1;32m---> 21\u001b[1;33m \u001b[0mpc_1\u001b[0m\u001b[1;33m.\u001b[0m\u001b[0mapply_encounter_xp\u001b[0m\u001b[1;33m(\u001b[0m\u001b[1;33m)\u001b[0m\u001b[1;33m\u001b[0m\u001b[1;33m\u001b[0m\u001b[0m\n\u001b[0m\u001b[0;32m     22\u001b[0m \u001b[0mprint\u001b[0m\u001b[1;33m(\u001b[0m\u001b[0mpc_1\u001b[0m\u001b[1;33m.\u001b[0m\u001b[0mexp\u001b[0m\u001b[1;33m)\u001b[0m\u001b[1;33m\u001b[0m\u001b[1;33m\u001b[0m\u001b[0m\n",
      "\u001b[1;32m<ipython-input-24-3f5b517675fe>\u001b[0m in \u001b[0;36mapply_encounter_xp\u001b[1;34m(self)\u001b[0m\n\u001b[0;32m     13\u001b[0m \u001b[1;33m\u001b[0m\u001b[0m\n\u001b[0;32m     14\u001b[0m     \u001b[1;32mdef\u001b[0m \u001b[0mapply_encounter_xp\u001b[0m\u001b[1;33m(\u001b[0m\u001b[0mself\u001b[0m\u001b[1;33m)\u001b[0m\u001b[1;33m:\u001b[0m\u001b[1;33m\u001b[0m\u001b[1;33m\u001b[0m\u001b[0m\n\u001b[1;32m---> 15\u001b[1;33m         \u001b[0mself\u001b[0m\u001b[1;33m.\u001b[0m\u001b[0mexp\u001b[0m \u001b[1;33m=\u001b[0m \u001b[0mint\u001b[0m\u001b[1;33m(\u001b[0m\u001b[0mself\u001b[0m\u001b[1;33m.\u001b[0m\u001b[0mexp\u001b[0m \u001b[1;33m*\u001b[0m \u001b[0mencounter_xp\u001b[0m\u001b[1;33m)\u001b[0m\u001b[1;33m\u001b[0m\u001b[1;33m\u001b[0m\u001b[0m\n\u001b[0m\u001b[0;32m     16\u001b[0m \u001b[1;33m\u001b[0m\u001b[0m\n\u001b[0;32m     17\u001b[0m \u001b[0mpc_1\u001b[0m \u001b[1;33m=\u001b[0m \u001b[0mPlayer_Character\u001b[0m\u001b[1;33m(\u001b[0m\u001b[1;34m'Rexthor'\u001b[0m\u001b[1;33m,\u001b[0m \u001b[1;34m'Barbarian'\u001b[0m\u001b[1;33m,\u001b[0m \u001b[1;36m1500\u001b[0m\u001b[1;33m)\u001b[0m\u001b[1;33m\u001b[0m\u001b[1;33m\u001b[0m\u001b[0m\n",
      "\u001b[1;31mNameError\u001b[0m: name 'encounter_xp' is not defined"
     ]
    }
   ],
   "source": [
    "class Player_Character:\n",
    "    \n",
    "    encounter_xp = 1.05\n",
    "    \n",
    "    def __init__(self, name, profession, exp):\n",
    "        self.name = name\n",
    "        self.profession = profession\n",
    "        self.exp = exp\n",
    "        self.edition = name + ' the ' + profession + ': D&D 3.5 Ed'\n",
    "        \n",
    "    def charname(self):\n",
    "        return '{} the {}'.format(self.name, self.profession)\n",
    "    \n",
    "    def apply_encounter_xp(self):\n",
    "        self.exp = int(self.exp * encounter_xp)\n",
    "\n",
    "pc_1 = Player_Character('Rexthor', 'Barbarian', 1500)\n",
    "pc_2 = Player_Character('Gandalf', 'Wizard', 3852)\n",
    "\n",
    "print(pc_1.exp)\n",
    "pc_1.apply_encounter_xp()\n",
    "print(pc_1.exp)"
   ]
  },
  {
   "cell_type": "code",
   "execution_count": 25,
   "metadata": {},
   "outputs": [
    {
     "name": "stdout",
     "output_type": "stream",
     "text": [
      "1500\n",
      "1575\n"
     ]
    }
   ],
   "source": [
    "class Player_Character:\n",
    "    \n",
    "    encounter_xp = 1.05\n",
    "    \n",
    "    def __init__(self, name, profession, exp):\n",
    "        self.name = name\n",
    "        self.profession = profession\n",
    "        self.exp = exp\n",
    "        self.edition = name + ' the ' + profession + ': D&D 3.5 Ed'\n",
    "        \n",
    "    def charname(self):\n",
    "        return '{} the {}'.format(self.name, self.profession)\n",
    "    \n",
    "    def apply_encounter_xp(self):\n",
    "        self.exp = int(self.exp * Player_Character.encounter_xp)\n",
    "\n",
    "pc_1 = Player_Character('Rexthor', 'Barbarian', 1500)\n",
    "pc_2 = Player_Character('Gandalf', 'Wizard', 3852)\n",
    "\n",
    "print(pc_1.exp)\n",
    "pc_1.apply_encounter_xp()\n",
    "print(pc_1.exp)"
   ]
  },
  {
   "cell_type": "code",
   "execution_count": 26,
   "metadata": {},
   "outputs": [
    {
     "name": "stdout",
     "output_type": "stream",
     "text": [
      "1500\n",
      "1575\n"
     ]
    }
   ],
   "source": [
    "class Player_Character:\n",
    "    \n",
    "    encounter_xp = 1.05\n",
    "    \n",
    "    def __init__(self, name, profession, exp):\n",
    "        self.name = name\n",
    "        self.profession = profession\n",
    "        self.exp = exp\n",
    "        self.edition = name + ' the ' + profession + ': D&D 3.5 Ed'\n",
    "        \n",
    "    def charname(self):\n",
    "        return '{} the {}'.format(self.name, self.profession)\n",
    "    \n",
    "    def apply_encounter_xp(self):\n",
    "        self.exp = int(self.exp * self.encounter_xp)\n",
    "\n",
    "pc_1 = Player_Character('Rexthor', 'Barbarian', 1500)\n",
    "pc_2 = Player_Character('Gandalf', 'Wizard', 3852)\n",
    "\n",
    "print(pc_1.exp)\n",
    "pc_1.apply_encounter_xp()\n",
    "print(pc_1.exp)"
   ]
  },
  {
   "cell_type": "code",
   "execution_count": 29,
   "metadata": {},
   "outputs": [
    {
     "name": "stdout",
     "output_type": "stream",
     "text": [
      "1.05\n",
      "1.05\n",
      "1.05\n"
     ]
    }
   ],
   "source": [
    "class Player_Character:\n",
    "    \n",
    "    encounter_xp = 1.05\n",
    "    \n",
    "    def __init__(self, name, profession, exp):\n",
    "        self.name = name\n",
    "        self.profession = profession\n",
    "        self.exp = exp\n",
    "        self.edition = name + ' the ' + profession + ': D&D 3.5 Ed'\n",
    "        \n",
    "    def charname(self):\n",
    "        return '{} the {}'.format(self.name, self.profession)\n",
    "    \n",
    "    def apply_encounter_xp(self):\n",
    "        self.exp = int(self.exp * self.encounter_xp)\n",
    "\n",
    "pc_1 = Player_Character('Rexthor', 'Barbarian', 1500)\n",
    "pc_2 = Player_Character('Gandalf', 'Wizard', 3852)\n",
    "\n",
    "print(Player_Character.encounter_xp)\n",
    "print(pc_1.encounter_xp)\n",
    "print(pc_2.encounter_xp)"
   ]
  },
  {
   "cell_type": "code",
   "execution_count": 30,
   "metadata": {
    "scrolled": true
   },
   "outputs": [
    {
     "name": "stdout",
     "output_type": "stream",
     "text": [
      "{'name': 'Rexthor', 'profession': 'Barbarian', 'exp': 1500, 'edition': 'Rexthor the Barbarian: D&D 3.5 Ed'}\n"
     ]
    }
   ],
   "source": [
    "class Player_Character:\n",
    "    \n",
    "    encounter_xp = 1.05\n",
    "    \n",
    "    def __init__(self, name, profession, exp):\n",
    "        self.name = name\n",
    "        self.profession = profession\n",
    "        self.exp = exp\n",
    "        self.edition = name + ' the ' + profession + ': D&D 3.5 Ed'\n",
    "        \n",
    "    def charname(self):\n",
    "        return '{} the {}'.format(self.name, self.profession)\n",
    "    \n",
    "    def apply_encounter_xp(self):\n",
    "        self.exp = int(self.exp * self.encounter_xp)\n",
    "\n",
    "pc_1 = Player_Character('Rexthor', 'Barbarian', 1500)\n",
    "pc_2 = Player_Character('Gandalf', 'Wizard', 3852)\n",
    "\n",
    "print(pc_1.__dict__)\n",
    "\n",
    "# print(Player_Character.encounter_xp)\n",
    "# print(pc_1.encounter_xp)\n",
    "# print(pc_2.encounter_xp)"
   ]
  },
  {
   "cell_type": "code",
   "execution_count": 31,
   "metadata": {},
   "outputs": [
    {
     "name": "stdout",
     "output_type": "stream",
     "text": [
      "{'__module__': '__main__', 'encounter_xp': 1.05, '__init__': <function Player_Character.__init__ at 0x00000274410BC828>, 'charname': <function Player_Character.charname at 0x00000274410BC5E8>, 'apply_encounter_xp': <function Player_Character.apply_encounter_xp at 0x00000274410BCCA8>, '__dict__': <attribute '__dict__' of 'Player_Character' objects>, '__weakref__': <attribute '__weakref__' of 'Player_Character' objects>, '__doc__': None}\n"
     ]
    }
   ],
   "source": [
    "class Player_Character:\n",
    "    \n",
    "    encounter_xp = 1.05\n",
    "    \n",
    "    def __init__(self, name, profession, exp):\n",
    "        self.name = name\n",
    "        self.profession = profession\n",
    "        self.exp = exp\n",
    "        self.edition = name + ' the ' + profession + ': D&D 3.5 Ed'\n",
    "        \n",
    "    def charname(self):\n",
    "        return '{} the {}'.format(self.name, self.profession)\n",
    "    \n",
    "    def apply_encounter_xp(self):\n",
    "        self.exp = int(self.exp * self.encounter_xp)\n",
    "\n",
    "pc_1 = Player_Character('Rexthor', 'Barbarian', 1500)\n",
    "pc_2 = Player_Character('Gandalf', 'Wizard', 3852)\n",
    "\n",
    "print(Player_Character.__dict__)\n",
    "\n",
    "# print(Player_Character.encounter_xp)\n",
    "# print(pc_1.encounter_xp)\n",
    "# print(pc_2.encounter_xp)"
   ]
  },
  {
   "cell_type": "code",
   "execution_count": 33,
   "metadata": {},
   "outputs": [
    {
     "name": "stdout",
     "output_type": "stream",
     "text": [
      "1.1\n",
      "1.1\n",
      "1.1\n"
     ]
    }
   ],
   "source": [
    "class Player_Character:\n",
    "    \n",
    "    encounter_xp = 1.05\n",
    "    \n",
    "    def __init__(self, name, profession, exp):\n",
    "        self.name = name\n",
    "        self.profession = profession\n",
    "        self.exp = exp\n",
    "        self.edition = name + ' the ' + profession + ': D&D 3.5 Ed'\n",
    "        \n",
    "    def charname(self):\n",
    "        return '{} the {}'.format(self.name, self.profession)\n",
    "    \n",
    "    def apply_encounter_xp(self):\n",
    "        self.exp = int(self.exp * self.encounter_xp)\n",
    "\n",
    "pc_1 = Player_Character('Rexthor', 'Barbarian', 1500)\n",
    "pc_2 = Player_Character('Gandalf', 'Wizard', 3852)\n",
    "\n",
    "# print(pc_1.__dict__)\n",
    "\n",
    "Player_Character.encounter_xp = 1.1\n",
    "\n",
    "print(Player_Character.encounter_xp)\n",
    "print(pc_1.encounter_xp)\n",
    "print(pc_2.encounter_xp)"
   ]
  },
  {
   "cell_type": "code",
   "execution_count": 34,
   "metadata": {},
   "outputs": [
    {
     "name": "stdout",
     "output_type": "stream",
     "text": [
      "1.05\n",
      "1.1\n",
      "1.05\n"
     ]
    }
   ],
   "source": [
    "class Player_Character:\n",
    "    \n",
    "    encounter_xp = 1.05\n",
    "    \n",
    "    def __init__(self, name, profession, exp):\n",
    "        self.name = name\n",
    "        self.profession = profession\n",
    "        self.exp = exp\n",
    "        self.edition = name + ' the ' + profession + ': D&D 3.5 Ed'\n",
    "        \n",
    "    def charname(self):\n",
    "        return '{} the {}'.format(self.name, self.profession)\n",
    "    \n",
    "    def apply_encounter_xp(self):\n",
    "        self.exp = int(self.exp * self.encounter_xp)\n",
    "\n",
    "pc_1 = Player_Character('Rexthor', 'Barbarian', 1500)\n",
    "pc_2 = Player_Character('Gandalf', 'Wizard', 3852)\n",
    "\n",
    "# print(pc_1.__dict__)\n",
    "\n",
    "pc_1.encounter_xp = 1.1\n",
    "\n",
    "print(Player_Character.encounter_xp)\n",
    "print(pc_1.encounter_xp)\n",
    "print(pc_2.encounter_xp)"
   ]
  },
  {
   "cell_type": "code",
   "execution_count": 35,
   "metadata": {},
   "outputs": [
    {
     "name": "stdout",
     "output_type": "stream",
     "text": [
      "{'name': 'Rexthor', 'profession': 'Barbarian', 'exp': 1500, 'edition': 'Rexthor the Barbarian: D&D 3.5 Ed', 'encounter_xp': 1.1}\n",
      "1.05\n",
      "1.1\n",
      "1.05\n"
     ]
    }
   ],
   "source": [
    "class Player_Character:\n",
    "    \n",
    "    encounter_xp = 1.05\n",
    "    \n",
    "    def __init__(self, name, profession, exp):\n",
    "        self.name = name\n",
    "        self.profession = profession\n",
    "        self.exp = exp\n",
    "        self.edition = name + ' the ' + profession + ': D&D 3.5 Ed'\n",
    "        \n",
    "    def charname(self):\n",
    "        return '{} the {}'.format(self.name, self.profession)\n",
    "    \n",
    "    def apply_encounter_xp(self):\n",
    "        self.exp = int(self.exp * self.encounter_xp)\n",
    "\n",
    "pc_1 = Player_Character('Rexthor', 'Barbarian', 1500)\n",
    "pc_2 = Player_Character('Gandalf', 'Wizard', 3852)\n",
    "\n",
    "pc_1.encounter_xp = 1.1\n",
    "\n",
    "print(pc_1.__dict__)\n",
    "\n",
    "print(Player_Character.encounter_xp)\n",
    "print(pc_1.encounter_xp)\n",
    "print(pc_2.encounter_xp)"
   ]
  },
  {
   "cell_type": "code",
   "execution_count": 36,
   "metadata": {},
   "outputs": [
    {
     "name": "stdout",
     "output_type": "stream",
     "text": [
      "{'name': 'Rexthor', 'profession': 'Barbarian', 'exp': 1500, 'edition': 'Rexthor the Barbarian: D&D 3.5 Ed', 'encounter_xp': 1.1}\n",
      "1.05\n",
      "1.1\n",
      "1.05\n",
      "1500\n",
      "1650\n",
      "3852\n",
      "4044\n"
     ]
    }
   ],
   "source": [
    "class Player_Character:\n",
    "    \n",
    "    encounter_xp = 1.05\n",
    "    \n",
    "    def __init__(self, name, profession, exp):\n",
    "        self.name = name\n",
    "        self.profession = profession\n",
    "        self.exp = exp\n",
    "        self.edition = name + ' the ' + profession + ': D&D 3.5 Ed'\n",
    "        \n",
    "    def charname(self):\n",
    "        return '{} the {}'.format(self.name, self.profession)\n",
    "    \n",
    "    def apply_encounter_xp(self):\n",
    "        self.exp = int(self.exp * self.encounter_xp)\n",
    "\n",
    "pc_1 = Player_Character('Rexthor', 'Barbarian', 1500)\n",
    "pc_2 = Player_Character('Gandalf', 'Wizard', 3852)\n",
    "\n",
    "pc_1.encounter_xp = 1.1\n",
    "\n",
    "print(pc_1.__dict__)\n",
    "\n",
    "print(Player_Character.encounter_xp)\n",
    "print(pc_1.encounter_xp)\n",
    "print(pc_2.encounter_xp)\n",
    "\n",
    "print(pc_1.exp)\n",
    "pc_1.apply_encounter_xp()\n",
    "print(pc_1.exp)\n",
    "\n",
    "print(pc_2.exp)\n",
    "pc_2.apply_encounter_xp()\n",
    "print(pc_2.exp)"
   ]
  },
  {
   "cell_type": "code",
   "execution_count": 37,
   "metadata": {},
   "outputs": [
    {
     "name": "stdout",
     "output_type": "stream",
     "text": [
      "2\n"
     ]
    }
   ],
   "source": [
    "class Player_Character:\n",
    "    \n",
    "    group_size = 0\n",
    "    encounter_xp = 1.05\n",
    "    \n",
    "    def __init__(self, name, profession, exp):\n",
    "        self.name = name\n",
    "        self.profession = profession\n",
    "        self.exp = exp\n",
    "        self.edition = name + ' the ' + profession + ': D&D 3.5 Ed'\n",
    "        \n",
    "        Player_Character.group_size += 1\n",
    "        \n",
    "    def charname(self):\n",
    "        return '{} the {}'.format(self.name, self.profession)\n",
    "    \n",
    "    def apply_encounter_xp(self):\n",
    "        self.exp = int(self.exp * self.encounter_xp)\n",
    "\n",
    "pc_1 = Player_Character('Rexthor', 'Barbarian', 1500)\n",
    "pc_2 = Player_Character('Gandalf', 'Wizard', 3852)\n",
    "\n",
    "print(Player_Character.group_size)"
   ]
  },
  {
   "cell_type": "code",
   "execution_count": 38,
   "metadata": {},
   "outputs": [
    {
     "name": "stdout",
     "output_type": "stream",
     "text": [
      "0\n",
      "2\n"
     ]
    }
   ],
   "source": [
    "class Player_Character:\n",
    "    \n",
    "    group_size = 0\n",
    "    encounter_xp = 1.05\n",
    "    \n",
    "    def __init__(self, name, profession, exp):\n",
    "        self.name = name\n",
    "        self.profession = profession\n",
    "        self.exp = exp\n",
    "        self.edition = name + ' the ' + profession + ': D&D 3.5 Ed'\n",
    "        \n",
    "        Player_Character.group_size += 1\n",
    "        \n",
    "    def charname(self):\n",
    "        return '{} the {}'.format(self.name, self.profession)\n",
    "    \n",
    "    def apply_encounter_xp(self):\n",
    "        self.exp = int(self.exp * self.encounter_xp)\n",
    "\n",
    "print(Player_Character.group_size)        \n",
    "\n",
    "pc_1 = Player_Character('Rexthor', 'Barbarian', 1500)\n",
    "pc_2 = Player_Character('Gandalf', 'Wizard', 3852)\n",
    "\n",
    "print(Player_Character.group_size)"
   ]
  },
  {
   "cell_type": "code",
   "execution_count": 39,
   "metadata": {},
   "outputs": [
    {
     "name": "stdout",
     "output_type": "stream",
     "text": [
      "1.05\n",
      "1.05\n",
      "1.05\n"
     ]
    }
   ],
   "source": [
    "class Player_Character:\n",
    "    \n",
    "    group_size = 0\n",
    "    encounter_xp = 1.05\n",
    "    \n",
    "    def __init__(self, name, profession, exp):\n",
    "        self.name = name\n",
    "        self.profession = profession\n",
    "        self.edition = name + ' the ' + profession + ': D&D 3.5 Ed'\n",
    "        self.exp = exp\n",
    "        \n",
    "        Player_Character.group_size += 1\n",
    "        \n",
    "    def charname(self):\n",
    "        return '{} the {}'.format(self.name, self.profession)\n",
    "    \n",
    "    def apply_encounter_xp(self):\n",
    "        self.exp = int(self.exp * self.encounter_xp)\n",
    "\n",
    "# Looks like we use \"cls\" for the same reason I had to change Class to Profession earlier\n",
    "    @classmethod\n",
    "    def set_encounter_exp(cls, experience):\n",
    "        cls.encounter_xp = experience\n",
    "\n",
    "pc_1 = Player_Character('Rexthor', 'Barbarian', 1500)\n",
    "pc_2 = Player_Character('Gandalf', 'Wizard', 3852)\n",
    "\n",
    "print(Player_Character.encounter_xp)\n",
    "print(pc_1.encounter_xp)\n",
    "print(pc_2.encounter_xp)"
   ]
  },
  {
   "cell_type": "code",
   "execution_count": 42,
   "metadata": {},
   "outputs": [
    {
     "name": "stdout",
     "output_type": "stream",
     "text": [
      "1.1\n",
      "1.1\n",
      "1.1\n"
     ]
    }
   ],
   "source": [
    "class Player_Character:\n",
    "    \n",
    "    group_size = 0\n",
    "    encounter_xp = 1.05\n",
    "    \n",
    "    def __init__(self, name, profession, exp):\n",
    "        self.name = name\n",
    "        self.profession = profession\n",
    "        self.edition = name + ' the ' + profession + ': D&D 3.5 Ed'\n",
    "        self.exp = exp\n",
    "        \n",
    "        Player_Character.group_size += 1\n",
    "        \n",
    "    def charname(self):\n",
    "        return '{} the {}'.format(self.name, self.profession)\n",
    "    \n",
    "    def apply_encounter_xp(self):\n",
    "        self.exp = int(self.exp * self.encounter_xp)\n",
    "\n",
    "# Looks like we use \"cls\" for the same reason I had to change Class to Profession earlier\n",
    "    @classmethod\n",
    "    def set_encounter_xp(cls, experience):\n",
    "        cls.encounter_xp = experience\n",
    "\n",
    "pc_1 = Player_Character('Rexthor', 'Barbarian', 1500)\n",
    "pc_2 = Player_Character('Gandalf', 'Wizard', 3852)\n",
    "\n",
    "Player_Character.set_encounter_xp(1.1)\n",
    "\n",
    "print(Player_Character.encounter_xp)\n",
    "print(pc_1.encounter_xp)\n",
    "print(pc_2.encounter_xp)"
   ]
  },
  {
   "cell_type": "code",
   "execution_count": 43,
   "metadata": {},
   "outputs": [
    {
     "name": "stdout",
     "output_type": "stream",
     "text": [
      "1.1\n",
      "1.1\n",
      "1.1\n"
     ]
    }
   ],
   "source": [
    "class Player_Character:\n",
    "    \n",
    "    group_size = 0\n",
    "    encounter_xp = 1.05\n",
    "    \n",
    "    def __init__(self, name, profession, exp):\n",
    "        self.name = name\n",
    "        self.profession = profession\n",
    "        self.edition = name + ' the ' + profession + ': D&D 3.5 Ed'\n",
    "        self.exp = exp\n",
    "        \n",
    "        Player_Character.group_size += 1\n",
    "        \n",
    "    def charname(self):\n",
    "        return '{} the {}'.format(self.name, self.profession)\n",
    "    \n",
    "    def apply_encounter_xp(self):\n",
    "        self.exp = int(self.exp * self.encounter_xp)\n",
    "\n",
    "# Looks like we use \"cls\" for the same reason I had to change Class to Profession earlier\n",
    "    @classmethod\n",
    "    def set_encounter_xp(cls, experience):\n",
    "        cls.encounter_xp = experience\n",
    "\n",
    "pc_1 = Player_Character('Rexthor', 'Barbarian', 1500)\n",
    "pc_2 = Player_Character('Gandalf', 'Wizard', 3852)\n",
    "\n",
    "pc_1.set_encounter_xp(1.1)\n",
    "\n",
    "print(Player_Character.encounter_xp)\n",
    "print(pc_1.encounter_xp)\n",
    "print(pc_2.encounter_xp)"
   ]
  },
  {
   "cell_type": "code",
   "execution_count": 45,
   "metadata": {},
   "outputs": [
    {
     "name": "stdout",
     "output_type": "stream",
     "text": [
      "Bilbo the Rogue: D&D 3.5 Ed\n",
      "9731\n"
     ]
    }
   ],
   "source": [
    "class Player_Character:\n",
    "    \n",
    "    group_size = 0\n",
    "    encounter_xp = 1.05\n",
    "    \n",
    "    def __init__(self, name, profession, exp):\n",
    "        self.name = name\n",
    "        self.profession = profession\n",
    "        self.edition = name + ' the ' + profession + ': D&D 3.5 Ed'\n",
    "        self.exp = exp\n",
    "        \n",
    "        Player_Character.group_size += 1\n",
    "        \n",
    "    def charname(self):\n",
    "        return '{} the {}'.format(self.name, self.profession)\n",
    "    \n",
    "    def apply_encounter_xp(self):\n",
    "        self.exp = int(self.exp * self.encounter_xp)\n",
    "\n",
    "# Looks like we use \"cls\" for the same reason I had to change Class to Profession earlier\n",
    "    @classmethod\n",
    "    def set_encounter_xp(cls, experience):\n",
    "        cls.encounter_xp = experience\n",
    "\n",
    "pc_1 = Player_Character('Rexthor', 'Barbarian', 1500)\n",
    "pc_2 = Player_Character('Gandalf', 'Wizard', 3852)\n",
    "\n",
    "char_str_1 = 'Bilbo-Rogue-9731'\n",
    "char_str_2 = 'Zaphod-Bard-4242'\n",
    "char_str_3 = 'Spok-Wizard-1701'\n",
    "\n",
    "name, profession, exp = char_str_1.split('-')\n",
    "\n",
    "new_pc_1 = Player_Character(name, profession, exp)\n",
    "\n",
    "print(new_pc_1.edition)\n",
    "print(new_pc_1.exp)"
   ]
  },
  {
   "cell_type": "code",
   "execution_count": 47,
   "metadata": {},
   "outputs": [
    {
     "name": "stdout",
     "output_type": "stream",
     "text": [
      "Zaphod the Bard: D&D 3.5 Ed\n",
      "4242\n"
     ]
    }
   ],
   "source": [
    "class Player_Character:\n",
    "    \n",
    "    group_size = 0\n",
    "    encounter_xp = 1.05\n",
    "    \n",
    "    def __init__(self, name, profession, exp):\n",
    "        self.name = name\n",
    "        self.profession = profession\n",
    "        self.edition = name + ' the ' + profession + ': D&D 3.5 Ed'\n",
    "        self.exp = exp\n",
    "        \n",
    "        Player_Character.group_size += 1\n",
    "        \n",
    "    def charname(self):\n",
    "        return '{} the {}'.format(self.name, self.profession)\n",
    "    \n",
    "    def apply_encounter_xp(self):\n",
    "        self.exp = int(self.exp * self.encounter_xp)\n",
    "\n",
    "# Looks like we use \"cls\" for the same reason I had to change Class to Profession earlier\n",
    "    @classmethod\n",
    "    def set_encounter_xp(cls, experience):\n",
    "        cls.encounter_xp = experience\n",
    "        \n",
    "    @classmethod\n",
    "    def from_string(cls, char_str):\n",
    "        name, profession, exp = char_str.split('-')\n",
    "        return cls(name, profession, exp)\n",
    "\n",
    "pc_1 = Player_Character('Rexthor', 'Barbarian', 1500)\n",
    "pc_2 = Player_Character('Gandalf', 'Wizard', 3852)\n",
    "\n",
    "char_str_1 = 'Bilbo-Rogue-9731'\n",
    "char_str_2 = 'Zaphod-Bard-4242'\n",
    "char_str_3 = 'Spok-Wizard-1701'\n",
    "\n",
    "new_pc_2 = Player_Character.from_string(char_str_2)\n",
    "\n",
    "print(new_pc_2.edition)\n",
    "print(new_pc_2.exp)"
   ]
  },
  {
   "cell_type": "code",
   "execution_count": 49,
   "metadata": {},
   "outputs": [],
   "source": [
    "class Date_Time:\n",
    "    \n",
    "    @classmethod\n",
    "    def fromtimestamp(cls, t):\n",
    "        y, m, d, hh, mm, ss, weekday, jday, dst = _time.localtime(t)\n",
    "        return cls(y, m, d)\n",
    "    \n",
    "    @classmethod\n",
    "    def today(cls):\n",
    "        t = _time.time()\n",
    "        return cls.fromtimestamp(t)\n",
    "    \n",
    "    @classmethod\n",
    "    def fromordinal(cls, n):\n",
    "        pass"
   ]
  },
  {
   "cell_type": "code",
   "execution_count": 50,
   "metadata": {},
   "outputs": [
    {
     "name": "stdout",
     "output_type": "stream",
     "text": [
      "True\n"
     ]
    }
   ],
   "source": [
    "class Player_Character:\n",
    "    \n",
    "    group_size = 0\n",
    "    encounter_xp = 1.05\n",
    "    \n",
    "    def __init__(self, name, profession, exp):\n",
    "        self.name = name\n",
    "        self.profession = profession\n",
    "        self.edition = name + ' the ' + profession + ': D&D 3.5 Ed'\n",
    "        self.exp = exp\n",
    "        \n",
    "        Player_Character.group_size += 1\n",
    "        \n",
    "    def charname(self):\n",
    "        return '{} the {}'.format(self.name, self.profession)\n",
    "    \n",
    "    def apply_encounter_xp(self):\n",
    "        self.exp = int(self.exp * self.encounter_xp)\n",
    "\n",
    "    @classmethod\n",
    "    def set_encounter_xp(cls, experience):\n",
    "        cls.encounter_xp = experience\n",
    "        \n",
    "    @classmethod\n",
    "    def from_string(cls, char_str):\n",
    "        name, profession, exp = char_str.split('-')\n",
    "        return cls(name, profession, exp)\n",
    "    \n",
    "    @staticmethod\n",
    "    def is_gamenight(day):\n",
    "        if day.weekday() == 4 or day.weekday() == 5:\n",
    "            return True\n",
    "        return False\n",
    "    \n",
    "\n",
    "pc_1 = Player_Character('Rexthor', 'Barbarian', 1500)\n",
    "pc_2 = Player_Character('Gandalf', 'Wizard', 3852)\n",
    "\n",
    "import datetime\n",
    "my_date = datetime.date(2020, 9, 26)\n",
    "\n",
    "print(Player_Character.is_gamenight(my_date))"
   ]
  },
  {
   "cell_type": "code",
   "execution_count": 51,
   "metadata": {},
   "outputs": [
    {
     "name": "stdout",
     "output_type": "stream",
     "text": [
      "False\n"
     ]
    }
   ],
   "source": [
    "class Player_Character:\n",
    "    \n",
    "    group_size = 0\n",
    "    encounter_xp = 1.05\n",
    "    \n",
    "    def __init__(self, name, profession, exp):\n",
    "        self.name = name\n",
    "        self.profession = profession\n",
    "        self.edition = name + ' the ' + profession + ': D&D 3.5 Ed'\n",
    "        self.exp = exp\n",
    "        \n",
    "        Player_Character.group_size += 1\n",
    "        \n",
    "    def charname(self):\n",
    "        return '{} the {}'.format(self.name, self.profession)\n",
    "    \n",
    "    def apply_encounter_xp(self):\n",
    "        self.exp = int(self.exp * self.encounter_xp)\n",
    "\n",
    "    @classmethod\n",
    "    def set_encounter_xp(cls, experience):\n",
    "        cls.encounter_xp = experience\n",
    "        \n",
    "    @classmethod\n",
    "    def from_string(cls, char_str):\n",
    "        name, profession, exp = char_str.split('-')\n",
    "        return cls(name, profession, exp)\n",
    "    \n",
    "    @staticmethod\n",
    "    def is_gamenight(day):\n",
    "        if day.weekday() == 4 or day.weekday() == 5:\n",
    "            return True\n",
    "        return False\n",
    "    \n",
    "\n",
    "pc_1 = Player_Character('Rexthor', 'Barbarian', 1500)\n",
    "pc_2 = Player_Character('Gandalf', 'Wizard', 3852)\n",
    "\n",
    "import datetime\n",
    "my_date = datetime.date(2020, 9, 30)\n",
    "\n",
    "print(Player_Character.is_gamenight(my_date))"
   ]
  },
  {
   "cell_type": "code",
   "execution_count": 52,
   "metadata": {},
   "outputs": [
    {
     "name": "stdout",
     "output_type": "stream",
     "text": [
      "Rexthor the Barbarian: D&D 3.5 Ed\n",
      "Gandalf the Wizard: D&D 3.5 Ed\n"
     ]
    }
   ],
   "source": [
    "class Player_Character:\n",
    "    \n",
    "    encounter_xp = 1.05\n",
    "    \n",
    "    def __init__(self, name, profession, exp):\n",
    "        self.name = name\n",
    "        self.profession = profession\n",
    "        self.edition = name + ' the ' + profession + ': D&D 3.5 Ed'\n",
    "        self.exp = exp\n",
    "        \n",
    "    def charname(self):\n",
    "        return '{} the {}'.format(self.name, self.profession)\n",
    "    \n",
    "    def apply_encounter_xp(self):\n",
    "        self.exp = int(self.exp * self.encounter_xp)\n",
    "\n",
    "pc_1 = Player_Character('Rexthor', 'Barbarian', 1500)\n",
    "pc_2 = Player_Character('Gandalf', 'Wizard', 3852)\n",
    "\n",
    "print(pc_1.edition)\n",
    "print(pc_2.edition)"
   ]
  },
  {
   "cell_type": "code",
   "execution_count": 53,
   "metadata": {},
   "outputs": [
    {
     "name": "stdout",
     "output_type": "stream",
     "text": [
      "Rexthor the Barbarian: D&D 3.5 Ed\n",
      "Gandalf the Wizard: D&D 3.5 Ed\n"
     ]
    }
   ],
   "source": [
    "class Player_Character:\n",
    "    \n",
    "    encounter_xp = 1.05\n",
    "    \n",
    "    def __init__(self, name, profession, exp):\n",
    "        self.name = name\n",
    "        self.profession = profession\n",
    "        self.edition = name + ' the ' + profession + ': D&D 3.5 Ed'\n",
    "        self.exp = exp\n",
    "        \n",
    "    def charname(self):\n",
    "        return '{} the {}'.format(self.name, self.profession)\n",
    "    \n",
    "    def apply_encounter_xp(self):\n",
    "        self.exp = int(self.exp * self.encounter_xp)\n",
    "\n",
    "\n",
    "class Campaign_1_char(Player_Character):\n",
    "    pass\n",
    "        \n",
    "hero_1 = Player_Character('Rexthor', 'Barbarian', 1500)\n",
    "hero_2 = Player_Character('Gandalf', 'Wizard', 3852)\n",
    "\n",
    "print(hero_1.edition)\n",
    "print(hero_2.edition)"
   ]
  },
  {
   "cell_type": "code",
   "execution_count": 54,
   "metadata": {},
   "outputs": [
    {
     "name": "stdout",
     "output_type": "stream",
     "text": [
      "Rexthor the Barbarian: D&D 3.5 Ed\n",
      "Gandalf the Wizard: D&D 3.5 Ed\n"
     ]
    }
   ],
   "source": [
    "class Player_Character:\n",
    "    \n",
    "    encounter_xp = 1.05\n",
    "    \n",
    "    def __init__(self, name, profession, exp):\n",
    "        self.name = name\n",
    "        self.profession = profession\n",
    "        self.edition = name + ' the ' + profession + ': D&D 3.5 Ed'\n",
    "        self.exp = exp\n",
    "        \n",
    "    def charname(self):\n",
    "        return '{} the {}'.format(self.name, self.profession)\n",
    "    \n",
    "    def apply_encounter_xp(self):\n",
    "        self.exp = int(self.exp * self.encounter_xp)\n",
    "\n",
    "\n",
    "class Campaign_1_char(Player_Character):\n",
    "    pass\n",
    "        \n",
    "hero_1 = Campaign_1_char('Rexthor', 'Barbarian', 1500)\n",
    "hero_2 = Campaign_1_char('Gandalf', 'Wizard', 3852)\n",
    "\n",
    "print(hero_1.edition)\n",
    "print(hero_2.edition)"
   ]
  },
  {
   "cell_type": "code",
   "execution_count": 55,
   "metadata": {},
   "outputs": [
    {
     "name": "stdout",
     "output_type": "stream",
     "text": [
      "Help on class Campaign_1_char in module __main__:\n",
      "\n",
      "class Campaign_1_char(Player_Character)\n",
      " |  Campaign_1_char(name, profession, exp)\n",
      " |  \n",
      " |  Method resolution order:\n",
      " |      Campaign_1_char\n",
      " |      Player_Character\n",
      " |      builtins.object\n",
      " |  \n",
      " |  Methods inherited from Player_Character:\n",
      " |  \n",
      " |  __init__(self, name, profession, exp)\n",
      " |      Initialize self.  See help(type(self)) for accurate signature.\n",
      " |  \n",
      " |  apply_encounter_xp(self)\n",
      " |  \n",
      " |  charname(self)\n",
      " |  \n",
      " |  ----------------------------------------------------------------------\n",
      " |  Data descriptors inherited from Player_Character:\n",
      " |  \n",
      " |  __dict__\n",
      " |      dictionary for instance variables (if defined)\n",
      " |  \n",
      " |  __weakref__\n",
      " |      list of weak references to the object (if defined)\n",
      " |  \n",
      " |  ----------------------------------------------------------------------\n",
      " |  Data and other attributes inherited from Player_Character:\n",
      " |  \n",
      " |  encounter_xp = 1.05\n",
      "\n",
      "None\n"
     ]
    }
   ],
   "source": [
    "class Player_Character:\n",
    "    \n",
    "    encounter_xp = 1.05\n",
    "    \n",
    "    def __init__(self, name, profession, exp):\n",
    "        self.name = name\n",
    "        self.profession = profession\n",
    "        self.edition = name + ' the ' + profession + ': D&D 3.5 Ed'\n",
    "        self.exp = exp\n",
    "        \n",
    "    def charname(self):\n",
    "        return '{} the {}'.format(self.name, self.profession)\n",
    "    \n",
    "    def apply_encounter_xp(self):\n",
    "        self.exp = int(self.exp * self.encounter_xp)\n",
    "\n",
    "\n",
    "class Campaign_1_char(Player_Character):\n",
    "    pass\n",
    "        \n",
    "hero_1 = Campaign_1_char('Rexthor', 'Barbarian', 1500)\n",
    "hero_2 = Campaign_1_char('Gandalf', 'Wizard', 3852)\n",
    "\n",
    "print(help(Campaign_1_char))\n",
    "\n",
    "# print(hero_1.edition)\n",
    "# print(hero_2.edition)"
   ]
  },
  {
   "cell_type": "code",
   "execution_count": 56,
   "metadata": {},
   "outputs": [
    {
     "name": "stdout",
     "output_type": "stream",
     "text": [
      "1500\n",
      "1575\n"
     ]
    }
   ],
   "source": [
    "class Player_Character:\n",
    "    \n",
    "    encounter_xp = 1.05\n",
    "    \n",
    "    def __init__(self, name, profession, exp):\n",
    "        self.name = name\n",
    "        self.profession = profession\n",
    "        self.edition = name + ' the ' + profession + ': D&D 3.5 Ed'\n",
    "        self.exp = exp\n",
    "        \n",
    "    def charname(self):\n",
    "        return '{} the {}'.format(self.name, self.profession)\n",
    "    \n",
    "    def apply_encounter_xp(self):\n",
    "        self.exp = int(self.exp * self.encounter_xp)\n",
    "\n",
    "\n",
    "class Campaign_1_char(Player_Character):\n",
    "    pass\n",
    "        \n",
    "hero_1 = Campaign_1_char('Rexthor', 'Barbarian', 1500)\n",
    "hero_2 = Campaign_1_char('Gandalf', 'Wizard', 3852)\n",
    "\n",
    "# print(hero_1.edition)\n",
    "# print(hero_2.edition)\n",
    "\n",
    "print(hero_1.exp)\n",
    "hero_1.apply_encounter_xp()\n",
    "print(hero_1.exp)"
   ]
  },
  {
   "cell_type": "code",
   "execution_count": 58,
   "metadata": {},
   "outputs": [
    {
     "name": "stdout",
     "output_type": "stream",
     "text": [
      "1500\n",
      "1515\n"
     ]
    }
   ],
   "source": [
    "class Player_Character:\n",
    "    \n",
    "    encounter_xp = 1.05\n",
    "    \n",
    "    def __init__(self, name, profession, exp):\n",
    "        self.name = name\n",
    "        self.profession = profession\n",
    "        self.edition = name + ' the ' + profession + ': D&D 3.5 Ed'\n",
    "        self.exp = exp\n",
    "        \n",
    "    def charname(self):\n",
    "        return '{} the {}'.format(self.name, self.profession)\n",
    "    \n",
    "    def apply_encounter_xp(self):\n",
    "        self.exp = int(self.exp * self.encounter_xp)\n",
    "\n",
    "\n",
    "class Campaign_1_char(Player_Character):\n",
    "    encounter_xp = 1.01\n",
    "        \n",
    "hero_1 = Campaign_1_char('Rexthor', 'Barbarian', 1500)\n",
    "hero_2 = Campaign_1_char('Gandalf', 'Wizard', 3852)\n",
    "\n",
    "# print(hero_1.edition)\n",
    "# print(hero_2.edition)\n",
    "\n",
    "print(hero_1.exp)\n",
    "hero_1.apply_encounter_xp()\n",
    "print(hero_1.exp)"
   ]
  },
  {
   "cell_type": "code",
   "execution_count": 59,
   "metadata": {},
   "outputs": [
    {
     "name": "stdout",
     "output_type": "stream",
     "text": [
      "1500\n",
      "1575\n"
     ]
    }
   ],
   "source": [
    "class Player_Character:\n",
    "    \n",
    "    encounter_xp = 1.05\n",
    "    \n",
    "    def __init__(self, name, profession, exp):\n",
    "        self.name = name\n",
    "        self.profession = profession\n",
    "        self.edition = name + ' the ' + profession + ': D&D 3.5 Ed'\n",
    "        self.exp = exp\n",
    "        \n",
    "    def charname(self):\n",
    "        return '{} the {}'.format(self.name, self.profession)\n",
    "    \n",
    "    def apply_encounter_xp(self):\n",
    "        self.exp = int(self.exp * self.encounter_xp)\n",
    "\n",
    "\n",
    "class Campaign_1_char(Player_Character):\n",
    "    encounter_xp = 1.01\n",
    "        \n",
    "hero_1 = Player_Character('Rexthor', 'Barbarian', 1500)\n",
    "hero_2 = Campaign_1_char('Gandalf', 'Wizard', 3852)\n",
    "\n",
    "# print(hero_1.edition)\n",
    "# print(hero_2.edition)\n",
    "\n",
    "print(hero_1.exp)\n",
    "hero_1.apply_encounter_xp()\n",
    "print(hero_1.exp)"
   ]
  },
  {
   "cell_type": "code",
   "execution_count": 61,
   "metadata": {},
   "outputs": [
    {
     "name": "stdout",
     "output_type": "stream",
     "text": [
      "Rexthor the Barbarian: D&D 3.5 Ed\n",
      "CG\n"
     ]
    }
   ],
   "source": [
    "class Player_Character:\n",
    "    \n",
    "    encounter_xp = 1.05\n",
    "    \n",
    "    def __init__(self, name, profession, exp):\n",
    "        self.name = name\n",
    "        self.profession = profession\n",
    "        self.edition = name + ' the ' + profession + ': D&D 3.5 Ed'\n",
    "        self.exp = exp\n",
    "        \n",
    "    def charname(self):\n",
    "        return '{} the {}'.format(self.name, self.profession)\n",
    "    \n",
    "    def apply_encounter_xp(self):\n",
    "        self.exp = int(self.exp * self.encounter_xp)\n",
    "\n",
    "\n",
    "class Campaign_1_char(Player_Character):\n",
    "    encounter_xp = 1.01\n",
    "    \n",
    "    def __init__(self, name, profession, exp, alignment):\n",
    "        super().__init__(name, profession, exp)\n",
    "        self.alignment = alignment\n",
    "        \n",
    "hero_1 = Campaign_1_char('Rexthor', 'Barbarian', 1500, 'CG')\n",
    "hero_2 = Campaign_1_char('Gandalf', 'Wizard', 3852, 'LG')\n",
    "\n",
    "print(hero_1.edition)\n",
    "print(hero_1.alignment)\n",
    "\n",
    "# print(hero_1.exp)\n",
    "# hero_1.apply_encounter_xp()\n",
    "# print(hero_1.exp)"
   ]
  },
  {
   "cell_type": "code",
   "execution_count": 65,
   "metadata": {},
   "outputs": [
    {
     "name": "stdout",
     "output_type": "stream",
     "text": [
      "Ursula the Lich: D&D 3.5 Ed\n",
      "=> => Rexthor the Barbarian\n"
     ]
    }
   ],
   "source": [
    "class Player_Character:\n",
    "    \n",
    "    encounter_xp = 1.05\n",
    "    \n",
    "    def __init__(self, name, profession, exp):\n",
    "        self.name = name\n",
    "        self.profession = profession\n",
    "        self.edition = name + ' the ' + profession + ': D&D 3.5 Ed'\n",
    "        self.exp = exp\n",
    "        \n",
    "    def charname(self):\n",
    "        return '{} the {}'.format(self.name, self.profession)\n",
    "    \n",
    "    def apply_encounter_xp(self):\n",
    "        self.exp = int(self.exp * self.encounter_xp)\n",
    "\n",
    "\n",
    "class Campaign_1_char(Player_Character):\n",
    "    encounter_xp = 1.01\n",
    "    \n",
    "    def __init__(self, name, profession, exp, alignment):\n",
    "        super().__init__(name, profession, exp)\n",
    "        self.alignment = alignment\n",
    "        \n",
    "class Campaign_2_char(Player_Character):\n",
    "    \n",
    "    def __init__(self, name, profession, exp, minions=None):\n",
    "        super().__init__(name, profession, exp)\n",
    "        if minions is None:\n",
    "            self.minions = []\n",
    "        else:\n",
    "            self.minions = minions\n",
    "            \n",
    "    def enslave_minion(self, mn):\n",
    "        if mn not in self.minions:\n",
    "            self.minions.append(mn)\n",
    "            \n",
    "    def escaped_minion(self, mn):\n",
    "        if mn in self.minions:\n",
    "            self.minions.remove(mn)\n",
    "            \n",
    "    def print_minions(self):\n",
    "        for mn in self.minions:\n",
    "            print('=> =>', mn.charname())\n",
    "        \n",
    "hero_1 = Campaign_1_char('Rexthor', 'Barbarian', 1500, 'CG')\n",
    "hero_2 = Campaign_1_char('Gandalf', 'Wizard', 3852, 'LG')\n",
    "\n",
    "villain_1 = Campaign_2_char('Ursula', 'Lich', 9999, [hero_1])\n",
    "\n",
    "print(villain_1.edition)\n",
    "\n",
    "villain_1.print_minions()\n",
    "\n",
    "# print(hero_1.edition)\n",
    "# print(hero_1.alignment)\n",
    "\n",
    "# print(hero_1.exp)\n",
    "# hero_1.apply_encounter_xp()\n",
    "# print(hero_1.exp)"
   ]
  },
  {
   "cell_type": "code",
   "execution_count": 66,
   "metadata": {},
   "outputs": [
    {
     "name": "stdout",
     "output_type": "stream",
     "text": [
      "Ursula the Lich: D&D 3.5 Ed\n",
      "=> => Rexthor the Barbarian\n",
      "=> => Gandalf the Wizard\n"
     ]
    }
   ],
   "source": [
    "class Player_Character:\n",
    "    \n",
    "    encounter_xp = 1.05\n",
    "    \n",
    "    def __init__(self, name, profession, exp):\n",
    "        self.name = name\n",
    "        self.profession = profession\n",
    "        self.edition = name + ' the ' + profession + ': D&D 3.5 Ed'\n",
    "        self.exp = exp\n",
    "        \n",
    "    def charname(self):\n",
    "        return '{} the {}'.format(self.name, self.profession)\n",
    "    \n",
    "    def apply_encounter_xp(self):\n",
    "        self.exp = int(self.exp * self.encounter_xp)\n",
    "\n",
    "\n",
    "class Campaign_1_char(Player_Character):\n",
    "    encounter_xp = 1.01\n",
    "    \n",
    "    def __init__(self, name, profession, exp, alignment):\n",
    "        super().__init__(name, profession, exp)\n",
    "        self.alignment = alignment\n",
    "        \n",
    "class Campaign_2_char(Player_Character):\n",
    "    \n",
    "    def __init__(self, name, profession, exp, minions=None):\n",
    "        super().__init__(name, profession, exp)\n",
    "        if minions is None:\n",
    "            self.minions = []\n",
    "        else:\n",
    "            self.minions = minions\n",
    "            \n",
    "    def enslave_minion(self, mn):\n",
    "        if mn not in self.minions:\n",
    "            self.minions.append(mn)\n",
    "            \n",
    "    def escaped_minion(self, mn):\n",
    "        if mn in self.minions:\n",
    "            self.minions.remove(mn)\n",
    "            \n",
    "    def print_minions(self):\n",
    "        for mn in self.minions:\n",
    "            print('=> =>', mn.charname())\n",
    "        \n",
    "hero_1 = Campaign_1_char('Rexthor', 'Barbarian', 1500, 'CG')\n",
    "hero_2 = Campaign_1_char('Gandalf', 'Wizard', 3852, 'LG')\n",
    "\n",
    "villain_1 = Campaign_2_char('Ursula', 'Lich', 9999, [hero_1])\n",
    "\n",
    "print(villain_1.edition)\n",
    "\n",
    "villain_1.enslave_minion(hero_2)\n",
    "\n",
    "villain_1.print_minions()\n",
    "\n",
    "# print(hero_1.edition)\n",
    "# print(hero_1.alignment)\n",
    "\n",
    "# print(hero_1.exp)\n",
    "# hero_1.apply_encounter_xp()\n",
    "# print(hero_1.exp)"
   ]
  },
  {
   "cell_type": "code",
   "execution_count": 67,
   "metadata": {},
   "outputs": [
    {
     "name": "stdout",
     "output_type": "stream",
     "text": [
      "Ursula the Lich: D&D 3.5 Ed\n",
      "=> => Gandalf the Wizard\n"
     ]
    }
   ],
   "source": [
    "class Player_Character:\n",
    "    \n",
    "    encounter_xp = 1.05\n",
    "    \n",
    "    def __init__(self, name, profession, exp):\n",
    "        self.name = name\n",
    "        self.profession = profession\n",
    "        self.edition = name + ' the ' + profession + ': D&D 3.5 Ed'\n",
    "        self.exp = exp\n",
    "        \n",
    "    def charname(self):\n",
    "        return '{} the {}'.format(self.name, self.profession)\n",
    "    \n",
    "    def apply_encounter_xp(self):\n",
    "        self.exp = int(self.exp * self.encounter_xp)\n",
    "\n",
    "\n",
    "class Campaign_1_char(Player_Character):\n",
    "    encounter_xp = 1.01\n",
    "    \n",
    "    def __init__(self, name, profession, exp, alignment):\n",
    "        super().__init__(name, profession, exp)\n",
    "        self.alignment = alignment\n",
    "        \n",
    "class Campaign_2_char(Player_Character):\n",
    "    \n",
    "    def __init__(self, name, profession, exp, minions=None):\n",
    "        super().__init__(name, profession, exp)\n",
    "        if minions is None:\n",
    "            self.minions = []\n",
    "        else:\n",
    "            self.minions = minions\n",
    "            \n",
    "    def enslave_minion(self, mn):\n",
    "        if mn not in self.minions:\n",
    "            self.minions.append(mn)\n",
    "            \n",
    "    def escaped_minion(self, mn):\n",
    "        if mn in self.minions:\n",
    "            self.minions.remove(mn)\n",
    "            \n",
    "    def print_minions(self):\n",
    "        for mn in self.minions:\n",
    "            print('=> =>', mn.charname())\n",
    "        \n",
    "hero_1 = Campaign_1_char('Rexthor', 'Barbarian', 1500, 'CG')\n",
    "hero_2 = Campaign_1_char('Gandalf', 'Wizard', 3852, 'LG')\n",
    "\n",
    "villain_1 = Campaign_2_char('Ursula', 'Lich', 9999, [hero_1])\n",
    "\n",
    "print(villain_1.edition)\n",
    "\n",
    "villain_1.enslave_minion(hero_2)\n",
    "villain_1.escaped_minion(hero_1)\n",
    "\n",
    "villain_1.print_minions()\n",
    "\n",
    "# print(hero_1.edition)\n",
    "# print(hero_1.alignment)\n",
    "\n",
    "# print(hero_1.exp)\n",
    "# hero_1.apply_encounter_xp()\n",
    "# print(hero_1.exp)"
   ]
  },
  {
   "cell_type": "code",
   "execution_count": 68,
   "metadata": {},
   "outputs": [
    {
     "name": "stdout",
     "output_type": "stream",
     "text": [
      "True\n"
     ]
    }
   ],
   "source": [
    "class Player_Character:\n",
    "    \n",
    "    encounter_xp = 1.05\n",
    "    \n",
    "    def __init__(self, name, profession, exp):\n",
    "        self.name = name\n",
    "        self.profession = profession\n",
    "        self.edition = name + ' the ' + profession + ': D&D 3.5 Ed'\n",
    "        self.exp = exp\n",
    "        \n",
    "    def charname(self):\n",
    "        return '{} the {}'.format(self.name, self.profession)\n",
    "    \n",
    "    def apply_encounter_xp(self):\n",
    "        self.exp = int(self.exp * self.encounter_xp)\n",
    "\n",
    "\n",
    "class Campaign_1_char(Player_Character):\n",
    "    encounter_xp = 1.01\n",
    "    \n",
    "    def __init__(self, name, profession, exp, alignment):\n",
    "        super().__init__(name, profession, exp)\n",
    "        self.alignment = alignment\n",
    "        \n",
    "class Campaign_2_char(Player_Character):\n",
    "    \n",
    "    def __init__(self, name, profession, exp, minions=None):\n",
    "        super().__init__(name, profession, exp)\n",
    "        if minions is None:\n",
    "            self.minions = []\n",
    "        else:\n",
    "            self.minions = minions\n",
    "            \n",
    "    def enslave_minion(self, mn):\n",
    "        if mn not in self.minions:\n",
    "            self.minions.append(mn)\n",
    "            \n",
    "    def escaped_minion(self, mn):\n",
    "        if mn in self.minions:\n",
    "            self.minions.remove(mn)\n",
    "            \n",
    "    def print_minions(self):\n",
    "        for mn in self.minions:\n",
    "            print('=> =>', mn.charname())\n",
    "        \n",
    "hero_1 = Campaign_1_char('Rexthor', 'Barbarian', 1500, 'CG')\n",
    "hero_2 = Campaign_1_char('Gandalf', 'Wizard', 3852, 'LG')\n",
    "\n",
    "villain_1 = Campaign_2_char('Ursula', 'Lich', 9999, [hero_1])\n",
    "\n",
    "print(isinstance(villain_1, Campaign_2_char))"
   ]
  },
  {
   "cell_type": "code",
   "execution_count": 69,
   "metadata": {},
   "outputs": [
    {
     "name": "stdout",
     "output_type": "stream",
     "text": [
      "True\n"
     ]
    }
   ],
   "source": [
    "class Player_Character:\n",
    "    \n",
    "    encounter_xp = 1.05\n",
    "    \n",
    "    def __init__(self, name, profession, exp):\n",
    "        self.name = name\n",
    "        self.profession = profession\n",
    "        self.edition = name + ' the ' + profession + ': D&D 3.5 Ed'\n",
    "        self.exp = exp\n",
    "        \n",
    "    def charname(self):\n",
    "        return '{} the {}'.format(self.name, self.profession)\n",
    "    \n",
    "    def apply_encounter_xp(self):\n",
    "        self.exp = int(self.exp * self.encounter_xp)\n",
    "\n",
    "\n",
    "class Campaign_1_char(Player_Character):\n",
    "    encounter_xp = 1.01\n",
    "    \n",
    "    def __init__(self, name, profession, exp, alignment):\n",
    "        super().__init__(name, profession, exp)\n",
    "        self.alignment = alignment\n",
    "        \n",
    "class Campaign_2_char(Player_Character):\n",
    "    \n",
    "    def __init__(self, name, profession, exp, minions=None):\n",
    "        super().__init__(name, profession, exp)\n",
    "        if minions is None:\n",
    "            self.minions = []\n",
    "        else:\n",
    "            self.minions = minions\n",
    "            \n",
    "    def enslave_minion(self, mn):\n",
    "        if mn not in self.minions:\n",
    "            self.minions.append(mn)\n",
    "            \n",
    "    def escaped_minion(self, mn):\n",
    "        if mn in self.minions:\n",
    "            self.minions.remove(mn)\n",
    "            \n",
    "    def print_minions(self):\n",
    "        for mn in self.minions:\n",
    "            print('=> =>', mn.charname())\n",
    "        \n",
    "hero_1 = Campaign_1_char('Rexthor', 'Barbarian', 1500, 'CG')\n",
    "hero_2 = Campaign_1_char('Gandalf', 'Wizard', 3852, 'LG')\n",
    "\n",
    "villain_1 = Campaign_2_char('Ursula', 'Lich', 9999, [hero_1])\n",
    "\n",
    "print(isinstance(villain_1, Player_Character))"
   ]
  },
  {
   "cell_type": "code",
   "execution_count": 70,
   "metadata": {},
   "outputs": [
    {
     "name": "stdout",
     "output_type": "stream",
     "text": [
      "False\n"
     ]
    }
   ],
   "source": [
    "class Player_Character:\n",
    "    \n",
    "    encounter_xp = 1.05\n",
    "    \n",
    "    def __init__(self, name, profession, exp):\n",
    "        self.name = name\n",
    "        self.profession = profession\n",
    "        self.edition = name + ' the ' + profession + ': D&D 3.5 Ed'\n",
    "        self.exp = exp\n",
    "        \n",
    "    def charname(self):\n",
    "        return '{} the {}'.format(self.name, self.profession)\n",
    "    \n",
    "    def apply_encounter_xp(self):\n",
    "        self.exp = int(self.exp * self.encounter_xp)\n",
    "\n",
    "\n",
    "class Campaign_1_char(Player_Character):\n",
    "    encounter_xp = 1.01\n",
    "    \n",
    "    def __init__(self, name, profession, exp, alignment):\n",
    "        super().__init__(name, profession, exp)\n",
    "        self.alignment = alignment\n",
    "        \n",
    "class Campaign_2_char(Player_Character):\n",
    "    \n",
    "    def __init__(self, name, profession, exp, minions=None):\n",
    "        super().__init__(name, profession, exp)\n",
    "        if minions is None:\n",
    "            self.minions = []\n",
    "        else:\n",
    "            self.minions = minions\n",
    "            \n",
    "    def enslave_minion(self, mn):\n",
    "        if mn not in self.minions:\n",
    "            self.minions.append(mn)\n",
    "            \n",
    "    def escaped_minion(self, mn):\n",
    "        if mn in self.minions:\n",
    "            self.minions.remove(mn)\n",
    "            \n",
    "    def print_minions(self):\n",
    "        for mn in self.minions:\n",
    "            print('=> =>', mn.charname())\n",
    "        \n",
    "hero_1 = Campaign_1_char('Rexthor', 'Barbarian', 1500, 'CG')\n",
    "hero_2 = Campaign_1_char('Gandalf', 'Wizard', 3852, 'LG')\n",
    "\n",
    "villain_1 = Campaign_2_char('Ursula', 'Lich', 9999, [hero_1])\n",
    "\n",
    "print(isinstance(villain_1, Campaign_1_char))"
   ]
  },
  {
   "cell_type": "code",
   "execution_count": 71,
   "metadata": {},
   "outputs": [
    {
     "name": "stdout",
     "output_type": "stream",
     "text": [
      "True\n"
     ]
    }
   ],
   "source": [
    "class Player_Character:\n",
    "    \n",
    "    encounter_xp = 1.05\n",
    "    \n",
    "    def __init__(self, name, profession, exp):\n",
    "        self.name = name\n",
    "        self.profession = profession\n",
    "        self.edition = name + ' the ' + profession + ': D&D 3.5 Ed'\n",
    "        self.exp = exp\n",
    "        \n",
    "    def charname(self):\n",
    "        return '{} the {}'.format(self.name, self.profession)\n",
    "    \n",
    "    def apply_encounter_xp(self):\n",
    "        self.exp = int(self.exp * self.encounter_xp)\n",
    "\n",
    "\n",
    "class Campaign_1_char(Player_Character):\n",
    "    encounter_xp = 1.01\n",
    "    \n",
    "    def __init__(self, name, profession, exp, alignment):\n",
    "        super().__init__(name, profession, exp)\n",
    "        self.alignment = alignment\n",
    "        \n",
    "class Campaign_2_char(Player_Character):\n",
    "    \n",
    "    def __init__(self, name, profession, exp, minions=None):\n",
    "        super().__init__(name, profession, exp)\n",
    "        if minions is None:\n",
    "            self.minions = []\n",
    "        else:\n",
    "            self.minions = minions\n",
    "            \n",
    "    def enslave_minion(self, mn):\n",
    "        if mn not in self.minions:\n",
    "            self.minions.append(mn)\n",
    "            \n",
    "    def escaped_minion(self, mn):\n",
    "        if mn in self.minions:\n",
    "            self.minions.remove(mn)\n",
    "            \n",
    "    def print_minions(self):\n",
    "        for mn in self.minions:\n",
    "            print('=> =>', mn.charname())\n",
    "        \n",
    "hero_1 = Campaign_1_char('Rexthor', 'Barbarian', 1500, 'CG')\n",
    "hero_2 = Campaign_1_char('Gandalf', 'Wizard', 3852, 'LG')\n",
    "\n",
    "villain_1 = Campaign_2_char('Ursula', 'Lich', 9999, [hero_1])\n",
    "\n",
    "print(issubclass(Campaign_1_char, Player_Character))"
   ]
  },
  {
   "cell_type": "code",
   "execution_count": 72,
   "metadata": {},
   "outputs": [
    {
     "name": "stdout",
     "output_type": "stream",
     "text": [
      "True\n"
     ]
    }
   ],
   "source": [
    "class Player_Character:\n",
    "    \n",
    "    encounter_xp = 1.05\n",
    "    \n",
    "    def __init__(self, name, profession, exp):\n",
    "        self.name = name\n",
    "        self.profession = profession\n",
    "        self.edition = name + ' the ' + profession + ': D&D 3.5 Ed'\n",
    "        self.exp = exp\n",
    "        \n",
    "    def charname(self):\n",
    "        return '{} the {}'.format(self.name, self.profession)\n",
    "    \n",
    "    def apply_encounter_xp(self):\n",
    "        self.exp = int(self.exp * self.encounter_xp)\n",
    "\n",
    "\n",
    "class Campaign_1_char(Player_Character):\n",
    "    encounter_xp = 1.01\n",
    "    \n",
    "    def __init__(self, name, profession, exp, alignment):\n",
    "        super().__init__(name, profession, exp)\n",
    "        self.alignment = alignment\n",
    "        \n",
    "class Campaign_2_char(Player_Character):\n",
    "    \n",
    "    def __init__(self, name, profession, exp, minions=None):\n",
    "        super().__init__(name, profession, exp)\n",
    "        if minions is None:\n",
    "            self.minions = []\n",
    "        else:\n",
    "            self.minions = minions\n",
    "            \n",
    "    def enslave_minion(self, mn):\n",
    "        if mn not in self.minions:\n",
    "            self.minions.append(mn)\n",
    "            \n",
    "    def escaped_minion(self, mn):\n",
    "        if mn in self.minions:\n",
    "            self.minions.remove(mn)\n",
    "            \n",
    "    def print_minions(self):\n",
    "        for mn in self.minions:\n",
    "            print('=> =>', mn.charname())\n",
    "        \n",
    "hero_1 = Campaign_1_char('Rexthor', 'Barbarian', 1500, 'CG')\n",
    "hero_2 = Campaign_1_char('Gandalf', 'Wizard', 3852, 'LG')\n",
    "\n",
    "villain_1 = Campaign_2_char('Ursula', 'Lich', 9999, [hero_1])\n",
    "\n",
    "print(issubclass(Campaign_2_char, Player_Character))"
   ]
  },
  {
   "cell_type": "code",
   "execution_count": 73,
   "metadata": {},
   "outputs": [
    {
     "name": "stdout",
     "output_type": "stream",
     "text": [
      "False\n"
     ]
    }
   ],
   "source": [
    "class Player_Character:\n",
    "    \n",
    "    encounter_xp = 1.05\n",
    "    \n",
    "    def __init__(self, name, profession, exp):\n",
    "        self.name = name\n",
    "        self.profession = profession\n",
    "        self.edition = name + ' the ' + profession + ': D&D 3.5 Ed'\n",
    "        self.exp = exp\n",
    "        \n",
    "    def charname(self):\n",
    "        return '{} the {}'.format(self.name, self.profession)\n",
    "    \n",
    "    def apply_encounter_xp(self):\n",
    "        self.exp = int(self.exp * self.encounter_xp)\n",
    "\n",
    "\n",
    "class Campaign_1_char(Player_Character):\n",
    "    encounter_xp = 1.01\n",
    "    \n",
    "    def __init__(self, name, profession, exp, alignment):\n",
    "        super().__init__(name, profession, exp)\n",
    "        self.alignment = alignment\n",
    "        \n",
    "class Campaign_2_char(Player_Character):\n",
    "    \n",
    "    def __init__(self, name, profession, exp, minions=None):\n",
    "        super().__init__(name, profession, exp)\n",
    "        if minions is None:\n",
    "            self.minions = []\n",
    "        else:\n",
    "            self.minions = minions\n",
    "            \n",
    "    def enslave_minion(self, mn):\n",
    "        if mn not in self.minions:\n",
    "            self.minions.append(mn)\n",
    "            \n",
    "    def escaped_minion(self, mn):\n",
    "        if mn in self.minions:\n",
    "            self.minions.remove(mn)\n",
    "            \n",
    "    def print_minions(self):\n",
    "        for mn in self.minions:\n",
    "            print('=> =>', mn.charname())\n",
    "        \n",
    "hero_1 = Campaign_1_char('Rexthor', 'Barbarian', 1500, 'CG')\n",
    "hero_2 = Campaign_1_char('Gandalf', 'Wizard', 3852, 'LG')\n",
    "\n",
    "villain_1 = Campaign_2_char('Ursula', 'Lich', 9999, [hero_1])\n",
    "\n",
    "print(issubclass(Campaign_2_char, Campaign_1_char))"
   ]
  },
  {
   "cell_type": "code",
   "execution_count": 1,
   "metadata": {},
   "outputs": [
    {
     "name": "stdout",
     "output_type": "stream",
     "text": [
      "3\n",
      "ab\n"
     ]
    }
   ],
   "source": [
    "class Player_Character:\n",
    "    \n",
    "    encounter_xp = 1.05\n",
    "    \n",
    "    def __init__(self, name, profession, exp):\n",
    "        self.name = name\n",
    "        self.profession = profession\n",
    "        self.edition = name + ' the ' + profession + ': D&D 3.5 Ed'\n",
    "        self.exp = exp\n",
    "        \n",
    "    def charname(self):\n",
    "        return '{} the {}'.format(self.name, self.profession)\n",
    "    \n",
    "    def apply_encounter_xp(self):\n",
    "        self.exp = int(self.exp * self.encounter_xp)\n",
    "\n",
    "# def __repr__(self):\n",
    "#     pass\n",
    "\n",
    "# def __str__(self):\n",
    "#     pass\n",
    "\n",
    "        \n",
    "pc_1 = Player_Character('Rexthor', 'Barbarian', 1500)\n",
    "pc_2 = Player_Character('Gandalf', 'Wizard', 3852)\n",
    "\n",
    "# print(pc_1)\n",
    "\n",
    "print(1 + 2)\n",
    "print('a' + 'b')"
   ]
  },
  {
   "cell_type": "code",
   "execution_count": 2,
   "metadata": {},
   "outputs": [
    {
     "name": "stdout",
     "output_type": "stream",
     "text": [
      "<__main__.Player_Character object at 0x000001C9AFA2D608>\n"
     ]
    }
   ],
   "source": [
    "class Player_Character:\n",
    "    \n",
    "    encounter_xp = 1.05\n",
    "    \n",
    "    def __init__(self, name, profession, exp):\n",
    "        self.name = name\n",
    "        self.profession = profession\n",
    "        self.edition = name + ' the ' + profession + ': D&D 3.5 Ed'\n",
    "        self.exp = exp\n",
    "        \n",
    "    def charname(self):\n",
    "        return '{} the {}'.format(self.name, self.profession)\n",
    "    \n",
    "    def apply_encounter_xp(self):\n",
    "        self.exp = int(self.exp * self.encounter_xp)\n",
    "\n",
    "# def __repr__(self):\n",
    "#     pass\n",
    "\n",
    "# def __str__(self):\n",
    "#     pass\n",
    "\n",
    "        \n",
    "pc_1 = Player_Character('Rexthor', 'Barbarian', 1500)\n",
    "pc_2 = Player_Character('Gandalf', 'Wizard', 3852)\n",
    "\n",
    "print(pc_1)"
   ]
  },
  {
   "cell_type": "code",
   "execution_count": 3,
   "metadata": {},
   "outputs": [
    {
     "name": "stdout",
     "output_type": "stream",
     "text": [
      "<__main__.Player_Character object at 0x000001C9AFA31308>\n"
     ]
    },
    {
     "data": {
      "text/plain": [
       "'<__main__.Player_Character object at 0x000001C9AFA31308>'"
      ]
     },
     "execution_count": 3,
     "metadata": {},
     "output_type": "execute_result"
    }
   ],
   "source": [
    "class Player_Character:\n",
    "    \n",
    "    encounter_xp = 1.05\n",
    "    \n",
    "    def __init__(self, name, profession, exp):\n",
    "        self.name = name\n",
    "        self.profession = profession\n",
    "        self.edition = name + ' the ' + profession + ': D&D 3.5 Ed'\n",
    "        self.exp = exp\n",
    "        \n",
    "    def charname(self):\n",
    "        return '{} the {}'.format(self.name, self.profession)\n",
    "    \n",
    "    def apply_encounter_xp(self):\n",
    "        self.exp = int(self.exp * self.encounter_xp)\n",
    "\n",
    "# def __repr__(self):\n",
    "#     pass\n",
    "\n",
    "# def __str__(self):\n",
    "#     pass\n",
    "\n",
    "        \n",
    "pc_1 = Player_Character('Rexthor', 'Barbarian', 1500)\n",
    "pc_2 = Player_Character('Gandalf', 'Wizard', 3852)\n",
    "\n",
    "print(pc_1)\n",
    "\n",
    "repr(pc_1)\n",
    "str(pc_1)"
   ]
  },
  {
   "cell_type": "code",
   "execution_count": 10,
   "metadata": {},
   "outputs": [
    {
     "name": "stdout",
     "output_type": "stream",
     "text": [
      "Player_Character('Rexthor', 'Barbarian', 1500)\n"
     ]
    }
   ],
   "source": [
    "class Player_Character:\n",
    "    \n",
    "    encounter_xp = 1.05\n",
    "    \n",
    "    def __init__(self, name, profession, exp):\n",
    "        self.name = name\n",
    "        self.profession = profession\n",
    "        self.edition = name + ' the ' + profession + ': D&D 3.5 Ed'\n",
    "        self.exp = exp\n",
    "        \n",
    "    def charname(self):\n",
    "        return '{} the {}'.format(self.name, self.profession)\n",
    "    \n",
    "    def apply_encounter_xp(self):\n",
    "        self.exp = int(self.exp * self.encounter_xp)\n",
    "    \n",
    "    def __repr__(self):\n",
    "        return \"Player_Character('{}', '{}', {})\".format(self.name, self.profession, self.exp)\n",
    "\n",
    "#     def __str__(self):\n",
    "#         pass\n",
    "\n",
    "        \n",
    "pc_1 = Player_Character('Rexthor', 'Barbarian', 1500)\n",
    "pc_2 = Player_Character('Gandalf', 'Wizard', 3852)\n",
    "\n",
    "print(pc_1)\n",
    "\n",
    "# repr(pc_1)\n",
    "# str(pc_1)"
   ]
  },
  {
   "cell_type": "code",
   "execution_count": 12,
   "metadata": {},
   "outputs": [
    {
     "name": "stdout",
     "output_type": "stream",
     "text": [
      "Rexthor the Barbarian - Rexthor the Barbarian: D&D 3.5 Ed\n"
     ]
    }
   ],
   "source": [
    "class Player_Character:\n",
    "    \n",
    "    encounter_xp = 1.05\n",
    "    \n",
    "    def __init__(self, name, profession, exp):\n",
    "        self.name = name\n",
    "        self.profession = profession\n",
    "        self.edition = name + ' the ' + profession + ': D&D 3.5 Ed'\n",
    "        self.exp = exp\n",
    "        \n",
    "    def charname(self):\n",
    "        return '{} the {}'.format(self.name, self.profession)\n",
    "    \n",
    "    def apply_encounter_xp(self):\n",
    "        self.exp = int(self.exp * self.encounter_xp)\n",
    "    \n",
    "    def __repr__(self):\n",
    "        return \"Player_Character('{}', '{}', {})\".format(self.name, self.profession, self.exp)\n",
    "\n",
    "    def __str__(self):\n",
    "        return '{} - {}'.format(self.charname(), self.edition)\n",
    "\n",
    "        \n",
    "pc_1 = Player_Character('Rexthor', 'Barbarian', 1500)\n",
    "pc_2 = Player_Character('Gandalf', 'Wizard', 3852)\n",
    "\n",
    "print(pc_1)\n",
    "\n",
    "# repr(pc_1)\n",
    "# str(pc_1)"
   ]
  },
  {
   "cell_type": "code",
   "execution_count": 13,
   "metadata": {},
   "outputs": [
    {
     "name": "stdout",
     "output_type": "stream",
     "text": [
      "Player_Character('Rexthor', 'Barbarian', 1500)\n",
      "Rexthor the Barbarian - Rexthor the Barbarian: D&D 3.5 Ed\n"
     ]
    }
   ],
   "source": [
    "class Player_Character:\n",
    "    \n",
    "    encounter_xp = 1.05\n",
    "    \n",
    "    def __init__(self, name, profession, exp):\n",
    "        self.name = name\n",
    "        self.profession = profession\n",
    "        self.edition = name + ' the ' + profession + ': D&D 3.5 Ed'\n",
    "        self.exp = exp\n",
    "        \n",
    "    def charname(self):\n",
    "        return '{} the {}'.format(self.name, self.profession)\n",
    "    \n",
    "    def apply_encounter_xp(self):\n",
    "        self.exp = int(self.exp * self.encounter_xp)\n",
    "    \n",
    "    def __repr__(self):\n",
    "        return \"Player_Character('{}', '{}', {})\".format(self.name, self.profession, self.exp)\n",
    "\n",
    "    def __str__(self):\n",
    "        return '{} - {}'.format(self.charname(), self.edition)\n",
    "\n",
    "        \n",
    "pc_1 = Player_Character('Rexthor', 'Barbarian', 1500)\n",
    "pc_2 = Player_Character('Gandalf', 'Wizard', 3852)\n",
    "\n",
    "# print(pc_1)\n",
    "\n",
    "print(repr(pc_1))\n",
    "print(str(pc_1))"
   ]
  },
  {
   "cell_type": "code",
   "execution_count": 14,
   "metadata": {},
   "outputs": [
    {
     "name": "stdout",
     "output_type": "stream",
     "text": [
      "Player_Character('Rexthor', 'Barbarian', 1500)\n",
      "Rexthor the Barbarian - Rexthor the Barbarian: D&D 3.5 Ed\n"
     ]
    }
   ],
   "source": [
    "class Player_Character:\n",
    "    \n",
    "    encounter_xp = 1.05\n",
    "    \n",
    "    def __init__(self, name, profession, exp):\n",
    "        self.name = name\n",
    "        self.profession = profession\n",
    "        self.edition = name + ' the ' + profession + ': D&D 3.5 Ed'\n",
    "        self.exp = exp\n",
    "        \n",
    "    def charname(self):\n",
    "        return '{} the {}'.format(self.name, self.profession)\n",
    "    \n",
    "    def apply_encounter_xp(self):\n",
    "        self.exp = int(self.exp * self.encounter_xp)\n",
    "    \n",
    "    def __repr__(self):\n",
    "        return \"Player_Character('{}', '{}', {})\".format(self.name, self.profession, self.exp)\n",
    "\n",
    "    def __str__(self):\n",
    "        return '{} - {}'.format(self.charname(), self.edition)\n",
    "\n",
    "        \n",
    "pc_1 = Player_Character('Rexthor', 'Barbarian', 1500)\n",
    "pc_2 = Player_Character('Gandalf', 'Wizard', 3852)\n",
    "\n",
    "# print(pc_1)\n",
    "\n",
    "# print(repr(pc_1))\n",
    "# print(str(pc_1))\n",
    "\n",
    "print(pc_1.__repr__())\n",
    "print(pc_1.__str__())"
   ]
  },
  {
   "cell_type": "code",
   "execution_count": 15,
   "metadata": {},
   "outputs": [
    {
     "name": "stdout",
     "output_type": "stream",
     "text": [
      "3\n"
     ]
    }
   ],
   "source": [
    "class Player_Character:\n",
    "    \n",
    "    encounter_xp = 1.05\n",
    "    \n",
    "    def __init__(self, name, profession, exp):\n",
    "        self.name = name\n",
    "        self.profession = profession\n",
    "        self.edition = name + ' the ' + profession + ': D&D 3.5 Ed'\n",
    "        self.exp = exp\n",
    "        \n",
    "    def charname(self):\n",
    "        return '{} the {}'.format(self.name, self.profession)\n",
    "    \n",
    "    def apply_encounter_xp(self):\n",
    "        self.exp = int(self.exp * self.encounter_xp)\n",
    "    \n",
    "    def __repr__(self):\n",
    "        return \"Player_Character('{}', '{}', {})\".format(self.name, self.profession, self.exp)\n",
    "\n",
    "    def __str__(self):\n",
    "        return '{} - {}'.format(self.charname(), self.edition)\n",
    "\n",
    "        \n",
    "pc_1 = Player_Character('Rexthor', 'Barbarian', 1500)\n",
    "pc_2 = Player_Character('Gandalf', 'Wizard', 3852)\n",
    "\n",
    "# print(pc_1)\n",
    "\n",
    "# print(repr(pc_1))\n",
    "# print(str(pc_1))\n",
    "\n",
    "# print(pc_1.__repr__())\n",
    "# print(pc_1.__str__())\n",
    "\n",
    "print(1+2)"
   ]
  },
  {
   "cell_type": "code",
   "execution_count": 16,
   "metadata": {},
   "outputs": [
    {
     "name": "stdout",
     "output_type": "stream",
     "text": [
      "6\n",
      "6\n"
     ]
    }
   ],
   "source": [
    "class Player_Character:\n",
    "    \n",
    "    encounter_xp = 1.05\n",
    "    \n",
    "    def __init__(self, name, profession, exp):\n",
    "        self.name = name\n",
    "        self.profession = profession\n",
    "        self.edition = name + ' the ' + profession + ': D&D 3.5 Ed'\n",
    "        self.exp = exp\n",
    "        \n",
    "    def charname(self):\n",
    "        return '{} the {}'.format(self.name, self.profession)\n",
    "    \n",
    "    def apply_encounter_xp(self):\n",
    "        self.exp = int(self.exp * self.encounter_xp)\n",
    "    \n",
    "    def __repr__(self):\n",
    "        return \"Player_Character('{}', '{}', {})\".format(self.name, self.profession, self.exp)\n",
    "\n",
    "    def __str__(self):\n",
    "        return '{} - {}'.format(self.charname(), self.edition)\n",
    "\n",
    "        \n",
    "pc_1 = Player_Character('Rexthor', 'Barbarian', 1500)\n",
    "pc_2 = Player_Character('Gandalf', 'Wizard', 3852)\n",
    "\n",
    "# print(pc_1)\n",
    "\n",
    "# print(repr(pc_1))\n",
    "# print(str(pc_1))\n",
    "\n",
    "# print(pc_1.__repr__())\n",
    "# print(pc_1.__str__())\n",
    "\n",
    "print(4+2)\n",
    "\n",
    "print(int.__add__(4, 2))"
   ]
  },
  {
   "cell_type": "code",
   "execution_count": 17,
   "metadata": {},
   "outputs": [
    {
     "name": "stdout",
     "output_type": "stream",
     "text": [
      "6\n",
      "6\n",
      "ab\n"
     ]
    }
   ],
   "source": [
    "class Player_Character:\n",
    "    \n",
    "    encounter_xp = 1.05\n",
    "    \n",
    "    def __init__(self, name, profession, exp):\n",
    "        self.name = name\n",
    "        self.profession = profession\n",
    "        self.edition = name + ' the ' + profession + ': D&D 3.5 Ed'\n",
    "        self.exp = exp\n",
    "        \n",
    "    def charname(self):\n",
    "        return '{} the {}'.format(self.name, self.profession)\n",
    "    \n",
    "    def apply_encounter_xp(self):\n",
    "        self.exp = int(self.exp * self.encounter_xp)\n",
    "    \n",
    "    def __repr__(self):\n",
    "        return \"Player_Character('{}', '{}', {})\".format(self.name, self.profession, self.exp)\n",
    "\n",
    "    def __str__(self):\n",
    "        return '{} - {}'.format(self.charname(), self.edition)\n",
    "\n",
    "        \n",
    "pc_1 = Player_Character('Rexthor', 'Barbarian', 1500)\n",
    "pc_2 = Player_Character('Gandalf', 'Wizard', 3852)\n",
    "\n",
    "# print(pc_1)\n",
    "\n",
    "# print(repr(pc_1))\n",
    "# print(str(pc_1))\n",
    "\n",
    "# print(pc_1.__repr__())\n",
    "# print(pc_1.__str__())\n",
    "\n",
    "print(4+2)\n",
    "\n",
    "print(int.__add__(4, 2))\n",
    "print(str.__add__('a', 'b'))"
   ]
  },
  {
   "cell_type": "code",
   "execution_count": 18,
   "metadata": {},
   "outputs": [
    {
     "name": "stdout",
     "output_type": "stream",
     "text": [
      "5352\n"
     ]
    }
   ],
   "source": [
    "class Player_Character:\n",
    "    \n",
    "    encounter_xp = 1.05\n",
    "    \n",
    "    def __init__(self, name, profession, exp):\n",
    "        self.name = name\n",
    "        self.profession = profession\n",
    "        self.edition = name + ' the ' + profession + ': D&D 3.5 Ed'\n",
    "        self.exp = exp\n",
    "        \n",
    "    def charname(self):\n",
    "        return '{} the {}'.format(self.name, self.profession)\n",
    "    \n",
    "    def apply_encounter_xp(self):\n",
    "        self.exp = int(self.exp * self.encounter_xp)\n",
    "    \n",
    "    def __repr__(self):\n",
    "        return \"Player_Character('{}', '{}', {})\".format(self.name, self.profession, self.exp)\n",
    "\n",
    "    def __str__(self):\n",
    "        return '{} - {}'.format(self.charname(), self.edition)\n",
    "    \n",
    "    def __add__(self, other):\n",
    "        return self.exp + other.exp\n",
    "\n",
    "        \n",
    "pc_1 = Player_Character('Rexthor', 'Barbarian', 1500)\n",
    "pc_2 = Player_Character('Gandalf', 'Wizard', 3852)\n",
    "\n",
    "print(pc_1 + pc_2)\n",
    "\n",
    "# print(pc_1)\n",
    "\n",
    "# print(repr(pc_1))\n",
    "# print(str(pc_1))\n",
    "\n",
    "# print(pc_1.__repr__())\n",
    "# print(pc_1.__str__())\n"
   ]
  },
  {
   "cell_type": "code",
   "execution_count": 19,
   "metadata": {},
   "outputs": [
    {
     "ename": "TypeError",
     "evalue": "unsupported operand type(s) for +: 'Player_Character' and 'Player_Character'",
     "output_type": "error",
     "traceback": [
      "\u001b[1;31m---------------------------------------------------------------------------\u001b[0m",
      "\u001b[1;31mTypeError\u001b[0m                                 Traceback (most recent call last)",
      "\u001b[1;32m<ipython-input-19-c12a38315aad>\u001b[0m in \u001b[0;36m<module>\u001b[1;34m\u001b[0m\n\u001b[0;32m     28\u001b[0m \u001b[0mpc_2\u001b[0m \u001b[1;33m=\u001b[0m \u001b[0mPlayer_Character\u001b[0m\u001b[1;33m(\u001b[0m\u001b[1;34m'Gandalf'\u001b[0m\u001b[1;33m,\u001b[0m \u001b[1;34m'Wizard'\u001b[0m\u001b[1;33m,\u001b[0m \u001b[1;36m3852\u001b[0m\u001b[1;33m)\u001b[0m\u001b[1;33m\u001b[0m\u001b[1;33m\u001b[0m\u001b[0m\n\u001b[0;32m     29\u001b[0m \u001b[1;33m\u001b[0m\u001b[0m\n\u001b[1;32m---> 30\u001b[1;33m \u001b[0mprint\u001b[0m\u001b[1;33m(\u001b[0m\u001b[0mpc_1\u001b[0m \u001b[1;33m+\u001b[0m \u001b[0mpc_2\u001b[0m\u001b[1;33m)\u001b[0m\u001b[1;33m\u001b[0m\u001b[1;33m\u001b[0m\u001b[0m\n\u001b[0m\u001b[0;32m     31\u001b[0m \u001b[1;33m\u001b[0m\u001b[0m\n\u001b[0;32m     32\u001b[0m \u001b[1;31m# print(pc_1)\u001b[0m\u001b[1;33m\u001b[0m\u001b[1;33m\u001b[0m\u001b[1;33m\u001b[0m\u001b[0m\n",
      "\u001b[1;31mTypeError\u001b[0m: unsupported operand type(s) for +: 'Player_Character' and 'Player_Character'"
     ]
    }
   ],
   "source": [
    "class Player_Character:\n",
    "    \n",
    "    encounter_xp = 1.05\n",
    "    \n",
    "    def __init__(self, name, profession, exp):\n",
    "        self.name = name\n",
    "        self.profession = profession\n",
    "        self.edition = name + ' the ' + profession + ': D&D 3.5 Ed'\n",
    "        self.exp = exp\n",
    "        \n",
    "    def charname(self):\n",
    "        return '{} the {}'.format(self.name, self.profession)\n",
    "    \n",
    "    def apply_encounter_xp(self):\n",
    "        self.exp = int(self.exp * self.encounter_xp)\n",
    "    \n",
    "    def __repr__(self):\n",
    "        return \"Player_Character('{}', '{}', {})\".format(self.name, self.profession, self.exp)\n",
    "\n",
    "    def __str__(self):\n",
    "        return '{} - {}'.format(self.charname(), self.edition)\n",
    "    \n",
    "#     def __add__(self, other):\n",
    "#         return self.exp + other.exp\n",
    "\n",
    "        \n",
    "pc_1 = Player_Character('Rexthor', 'Barbarian', 1500)\n",
    "pc_2 = Player_Character('Gandalf', 'Wizard', 3852)\n",
    "\n",
    "print(pc_1 + pc_2)\n",
    "\n",
    "# print(pc_1)\n",
    "\n",
    "# print(repr(pc_1))\n",
    "# print(str(pc_1))\n",
    "\n",
    "# print(pc_1.__repr__())\n",
    "# print(pc_1.__str__())\n"
   ]
  },
  {
   "cell_type": "code",
   "execution_count": 21,
   "metadata": {},
   "outputs": [
    {
     "name": "stdout",
     "output_type": "stream",
     "text": [
      "16\n"
     ]
    }
   ],
   "source": [
    "class Player_Character:\n",
    "    \n",
    "    encounter_xp = 1.05\n",
    "    \n",
    "    def __init__(self, name, profession, exp):\n",
    "        self.name = name\n",
    "        self.profession = profession\n",
    "        self.edition = name + ' the ' + profession + ': D&D 3.5 Ed'\n",
    "        self.exp = exp\n",
    "        \n",
    "    def charname(self):\n",
    "        return '{} the {}'.format(self.name, self.profession)\n",
    "    \n",
    "    def apply_encounter_xp(self):\n",
    "        self.exp = int(self.exp * self.encounter_xp)\n",
    "    \n",
    "    def __repr__(self):\n",
    "        return \"Player_Character('{}', '{}', {})\".format(self.name, self.profession, self.exp)\n",
    "\n",
    "    def __str__(self):\n",
    "        return '{} - {}'.format(self.charname(), self.edition)\n",
    "    \n",
    "    def __add__(self, other):\n",
    "        return self.exp + other.exp\n",
    "\n",
    "        \n",
    "pc_1 = Player_Character('Rexthor', 'Barbarian', 1500)\n",
    "pc_2 = Player_Character('Gandalf', 'Wizard', 3852)\n",
    "\n",
    "print(len(\"Monster's Manual\"))\n",
    "\n",
    "# print(pc_1)\n",
    "\n",
    "# print(repr(pc_1))\n",
    "# print(str(pc_1))\n",
    "\n",
    "# print(pc_1.__repr__())\n",
    "# print(pc_1.__str__())\n"
   ]
  },
  {
   "cell_type": "code",
   "execution_count": 23,
   "metadata": {},
   "outputs": [
    {
     "name": "stdout",
     "output_type": "stream",
     "text": [
      "21\n"
     ]
    }
   ],
   "source": [
    "class Player_Character:\n",
    "    \n",
    "    encounter_xp = 1.05\n",
    "    \n",
    "    def __init__(self, name, profession, exp):\n",
    "        self.name = name\n",
    "        self.profession = profession\n",
    "        self.edition = name + ' the ' + profession + ': D&D 3.5 Ed'\n",
    "        self.exp = exp\n",
    "        \n",
    "    def charname(self):\n",
    "        return '{} the {}'.format(self.name, self.profession)\n",
    "    \n",
    "    def apply_encounter_xp(self):\n",
    "        self.exp = int(self.exp * self.encounter_xp)\n",
    "    \n",
    "    def __repr__(self):\n",
    "        return \"Player_Character('{}', '{}', {})\".format(self.name, self.profession, self.exp)\n",
    "\n",
    "    def __str__(self):\n",
    "        return '{} - {}'.format(self.charname(), self.edition)\n",
    "    \n",
    "    def __add__(self, other):\n",
    "        return self.exp + other.exp\n",
    "    \n",
    "    def __len__(self):\n",
    "        return len(self.charname())\n",
    "\n",
    "        \n",
    "pc_1 = Player_Character('Rexthor', 'Barbarian', 1500)\n",
    "pc_2 = Player_Character('Gandalf', 'Wizard', 3852)\n",
    "\n",
    "print(len(pc_1))\n",
    "\n",
    "# print(pc_1)\n",
    "\n",
    "# print(repr(pc_1))\n",
    "# print(str(pc_1))\n",
    "\n",
    "# print(pc_1.__repr__())\n",
    "# print(pc_1.__str__())"
   ]
  },
  {
   "cell_type": "code",
   "execution_count": 26,
   "metadata": {},
   "outputs": [
    {
     "name": "stdout",
     "output_type": "stream",
     "text": [
      "Legolas\n",
      "Legolas the Ranger: D&D 3.5 Ed\n",
      "Legolas the Ranger\n"
     ]
    }
   ],
   "source": [
    "class Player_Character:\n",
    "    \n",
    "    def __init__(self, name, profession):\n",
    "        self.name = name\n",
    "        self.profession = profession\n",
    "        self.edition = name + ' the ' + profession + ': D&D 3.5 Ed'\n",
    "        \n",
    "    def charname(self):\n",
    "        return '{} the {}'.format(self.name, self.profession)\n",
    "\n",
    "pc_1 = Player_Character('Legolas', 'Ranger')\n",
    "\n",
    "print(pc_1.name)\n",
    "print(pc_1.edition)\n",
    "print(pc_1.charname())"
   ]
  },
  {
   "cell_type": "code",
   "execution_count": 29,
   "metadata": {},
   "outputs": [
    {
     "name": "stdout",
     "output_type": "stream",
     "text": [
      "Elrond\n",
      "Legolas the Ranger: D&D 3.5 Ed\n",
      "Elrond the Ranger\n"
     ]
    }
   ],
   "source": [
    "class Player_Character:\n",
    "    \n",
    "    def __init__(self, name, profession):\n",
    "        self.name = name\n",
    "        self.profession = profession\n",
    "        self.edition = name + ' the ' + profession + ': D&D 3.5 Ed'\n",
    "        \n",
    "    def charname(self):\n",
    "        return '{} the {}'.format(self.name, self.profession)\n",
    "\n",
    "pc_1 = Player_Character('Legolas', 'Ranger')\n",
    "\n",
    "pc_1.name = 'Elrond'\n",
    "\n",
    "print(pc_1.name)\n",
    "print(pc_1.edition)\n",
    "print(pc_1.charname())"
   ]
  },
  {
   "cell_type": "code",
   "execution_count": 30,
   "metadata": {},
   "outputs": [
    {
     "name": "stdout",
     "output_type": "stream",
     "text": [
      "Elrond\n",
      "<bound method Player_Character.edition of <__main__.Player_Character object at 0x000001C9AFAE62C8>>\n",
      "Elrond the Ranger\n"
     ]
    }
   ],
   "source": [
    "class Player_Character:\n",
    "    \n",
    "    def __init__(self, name, profession):\n",
    "        self.name = name\n",
    "        self.profession = profession\n",
    "      \n",
    "    def edition(self):\n",
    "        return '{} the {}: D&D 3.5 Ed'.format(self.name, self.profession)\n",
    "    \n",
    "    def charname(self):\n",
    "        return '{} the {}'.format(self.name, self.profession)\n",
    "\n",
    "pc_1 = Player_Character('Legolas', 'Ranger')\n",
    "\n",
    "pc_1.name = 'Elrond'\n",
    "\n",
    "print(pc_1.name)\n",
    "print(pc_1.edition)\n",
    "print(pc_1.charname())"
   ]
  },
  {
   "cell_type": "code",
   "execution_count": 31,
   "metadata": {},
   "outputs": [
    {
     "name": "stdout",
     "output_type": "stream",
     "text": [
      "Elrond\n",
      "Elrond the Ranger: D&D 3.5 Ed\n",
      "Elrond the Ranger\n"
     ]
    }
   ],
   "source": [
    "class Player_Character:\n",
    "    \n",
    "    def __init__(self, name, profession):\n",
    "        self.name = name\n",
    "        self.profession = profession\n",
    "      \n",
    "    def edition(self):\n",
    "        return '{} the {}: D&D 3.5 Ed'.format(self.name, self.profession)\n",
    "    \n",
    "    def charname(self):\n",
    "        return '{} the {}'.format(self.name, self.profession)\n",
    "\n",
    "pc_1 = Player_Character('Legolas', 'Ranger')\n",
    "\n",
    "pc_1.name = 'Elrond'\n",
    "\n",
    "print(pc_1.name)\n",
    "print(pc_1.edition())\n",
    "print(pc_1.charname())"
   ]
  },
  {
   "cell_type": "code",
   "execution_count": 34,
   "metadata": {},
   "outputs": [
    {
     "name": "stdout",
     "output_type": "stream",
     "text": [
      "Elrond\n",
      "Elrond the Ranger: D&D 3.5 Ed\n",
      "Elrond the Ranger\n"
     ]
    }
   ],
   "source": [
    "class Player_Character:\n",
    "    \n",
    "    def __init__(self, name, profession):\n",
    "        self.name = name\n",
    "        self.profession = profession\n",
    "        \n",
    "    @property\n",
    "    def edition(self):\n",
    "        return '{} the {}: D&D 3.5 Ed'.format(self.name, self.profession)\n",
    "    \n",
    "    def charname(self):\n",
    "        return '{} the {}'.format(self.name, self.profession)\n",
    "\n",
    "pc_1 = Player_Character('Legolas', 'Ranger')\n",
    "\n",
    "pc_1.name = 'Elrond'\n",
    "\n",
    "print(pc_1.name)\n",
    "print(pc_1.edition)\n",
    "print(pc_1.charname())"
   ]
  },
  {
   "cell_type": "code",
   "execution_count": 35,
   "metadata": {},
   "outputs": [
    {
     "name": "stdout",
     "output_type": "stream",
     "text": [
      "Elrond\n",
      "Elrond the Ranger: D&D 3.5 Ed\n"
     ]
    },
    {
     "ename": "TypeError",
     "evalue": "'str' object is not callable",
     "output_type": "error",
     "traceback": [
      "\u001b[1;31m---------------------------------------------------------------------------\u001b[0m",
      "\u001b[1;31mTypeError\u001b[0m                                 Traceback (most recent call last)",
      "\u001b[1;32m<ipython-input-35-6a16809317a2>\u001b[0m in \u001b[0;36m<module>\u001b[1;34m\u001b[0m\n\u001b[0;32m     19\u001b[0m \u001b[0mprint\u001b[0m\u001b[1;33m(\u001b[0m\u001b[0mpc_1\u001b[0m\u001b[1;33m.\u001b[0m\u001b[0mname\u001b[0m\u001b[1;33m)\u001b[0m\u001b[1;33m\u001b[0m\u001b[1;33m\u001b[0m\u001b[0m\n\u001b[0;32m     20\u001b[0m \u001b[0mprint\u001b[0m\u001b[1;33m(\u001b[0m\u001b[0mpc_1\u001b[0m\u001b[1;33m.\u001b[0m\u001b[0medition\u001b[0m\u001b[1;33m)\u001b[0m\u001b[1;33m\u001b[0m\u001b[1;33m\u001b[0m\u001b[0m\n\u001b[1;32m---> 21\u001b[1;33m \u001b[0mprint\u001b[0m\u001b[1;33m(\u001b[0m\u001b[0mpc_1\u001b[0m\u001b[1;33m.\u001b[0m\u001b[0mcharname\u001b[0m\u001b[1;33m(\u001b[0m\u001b[1;33m)\u001b[0m\u001b[1;33m)\u001b[0m\u001b[1;33m\u001b[0m\u001b[1;33m\u001b[0m\u001b[0m\n\u001b[0m",
      "\u001b[1;31mTypeError\u001b[0m: 'str' object is not callable"
     ]
    }
   ],
   "source": [
    "class Player_Character:\n",
    "    \n",
    "    def __init__(self, name, profession):\n",
    "        self.name = name\n",
    "        self.profession = profession\n",
    "        \n",
    "    @property\n",
    "    def edition(self):\n",
    "        return '{} the {}: D&D 3.5 Ed'.format(self.name, self.profession)\n",
    "    \n",
    "    @property\n",
    "    def charname(self):\n",
    "        return '{} the {}'.format(self.name, self.profession)\n",
    "\n",
    "pc_1 = Player_Character('Legolas', 'Ranger')\n",
    "\n",
    "pc_1.name = 'Elrond'\n",
    "\n",
    "print(pc_1.name)\n",
    "print(pc_1.edition)\n",
    "print(pc_1.charname())"
   ]
  },
  {
   "cell_type": "code",
   "execution_count": 37,
   "metadata": {},
   "outputs": [
    {
     "name": "stdout",
     "output_type": "stream",
     "text": [
      "Elrond\n",
      "Elrond the Ranger: D&D 3.5 Ed\n",
      "Elrond the Ranger\n"
     ]
    }
   ],
   "source": [
    "class Player_Character:\n",
    "    \n",
    "    def __init__(self, name, profession):\n",
    "        self.name = name\n",
    "        self.profession = profession\n",
    "        \n",
    "    @property\n",
    "    def edition(self):\n",
    "        return '{} the {}: D&D 3.5 Ed'.format(self.name, self.profession)\n",
    "    \n",
    "    @property\n",
    "    def charname(self):\n",
    "        return '{} the {}'.format(self.name, self.profession)\n",
    "\n",
    "pc_1 = Player_Character('Legolas', 'Ranger')\n",
    "\n",
    "pc_1.name = 'Elrond'\n",
    "\n",
    "print(pc_1.name)\n",
    "print(pc_1.edition)\n",
    "print(pc_1.charname)"
   ]
  },
  {
   "cell_type": "code",
   "execution_count": 38,
   "metadata": {},
   "outputs": [
    {
     "ename": "AttributeError",
     "evalue": "can't set attribute",
     "output_type": "error",
     "traceback": [
      "\u001b[1;31m---------------------------------------------------------------------------\u001b[0m",
      "\u001b[1;31mAttributeError\u001b[0m                            Traceback (most recent call last)",
      "\u001b[1;32m<ipython-input-38-287c43c3e17d>\u001b[0m in \u001b[0;36m<module>\u001b[1;34m\u001b[0m\n\u001b[0;32m     15\u001b[0m \u001b[0mpc_1\u001b[0m \u001b[1;33m=\u001b[0m \u001b[0mPlayer_Character\u001b[0m\u001b[1;33m(\u001b[0m\u001b[1;34m'Legolas'\u001b[0m\u001b[1;33m,\u001b[0m \u001b[1;34m'Ranger'\u001b[0m\u001b[1;33m)\u001b[0m\u001b[1;33m\u001b[0m\u001b[1;33m\u001b[0m\u001b[0m\n\u001b[0;32m     16\u001b[0m \u001b[1;33m\u001b[0m\u001b[0m\n\u001b[1;32m---> 17\u001b[1;33m \u001b[0mpc_1\u001b[0m\u001b[1;33m.\u001b[0m\u001b[0mcharname\u001b[0m \u001b[1;33m=\u001b[0m \u001b[1;34m'Drax the Fighter'\u001b[0m\u001b[1;33m\u001b[0m\u001b[1;33m\u001b[0m\u001b[0m\n\u001b[0m\u001b[0;32m     18\u001b[0m \u001b[1;33m\u001b[0m\u001b[0m\n\u001b[0;32m     19\u001b[0m \u001b[0mprint\u001b[0m\u001b[1;33m(\u001b[0m\u001b[0mpc_1\u001b[0m\u001b[1;33m.\u001b[0m\u001b[0mname\u001b[0m\u001b[1;33m)\u001b[0m\u001b[1;33m\u001b[0m\u001b[1;33m\u001b[0m\u001b[0m\n",
      "\u001b[1;31mAttributeError\u001b[0m: can't set attribute"
     ]
    }
   ],
   "source": [
    "class Player_Character:\n",
    "    \n",
    "    def __init__(self, name, profession):\n",
    "        self.name = name\n",
    "        self.profession = profession\n",
    "        \n",
    "    @property\n",
    "    def edition(self):\n",
    "        return '{} the {}: D&D 3.5 Ed'.format(self.name, self.profession)\n",
    "    \n",
    "    @property\n",
    "    def charname(self):\n",
    "        return '{} the {}'.format(self.name, self.profession)\n",
    "\n",
    "pc_1 = Player_Character('Legolas', 'Ranger')\n",
    "\n",
    "pc_1.charname = 'Drax the Fighter'\n",
    "\n",
    "print(pc_1.name)\n",
    "print(pc_1.edition)\n",
    "print(pc_1.charname)"
   ]
  },
  {
   "cell_type": "code",
   "execution_count": 39,
   "metadata": {},
   "outputs": [
    {
     "name": "stdout",
     "output_type": "stream",
     "text": [
      "Legolas\n",
      "Legolas the Ranger: D&D 3.5 Ed\n",
      "Legolas the Ranger\n"
     ]
    }
   ],
   "source": [
    "class Player_Character:\n",
    "    \n",
    "    def __init__(self, name, profession):\n",
    "        self.name = name\n",
    "        self.profession = profession\n",
    "        \n",
    "    @property\n",
    "    def edition(self):\n",
    "        return '{} the {}: D&D 3.5 Ed'.format(self.name, self.profession)\n",
    "    \n",
    "    @property\n",
    "    def charname(self):\n",
    "        return '{} the {}'.format(self.name, self.profession)\n",
    "\n",
    "pc_1 = Player_Character('Legolas', 'Ranger')\n",
    "\n",
    "# pc_1.charname = 'Drax the Fighter'\n",
    "\n",
    "print(pc_1.name)\n",
    "print(pc_1.edition)\n",
    "print(pc_1.charname)"
   ]
  },
  {
   "cell_type": "code",
   "execution_count": 40,
   "metadata": {},
   "outputs": [
    {
     "name": "stdout",
     "output_type": "stream",
     "text": [
      "Drax\n",
      "Drax the Fighter: D&D 3.5 Ed\n",
      "Drax the Fighter\n"
     ]
    }
   ],
   "source": [
    "class Player_Character:\n",
    "    \n",
    "    def __init__(self, name, profession):\n",
    "        self.name = name\n",
    "        self.profession = profession\n",
    "        \n",
    "    @property\n",
    "    def edition(self):\n",
    "        return '{} the {}: D&D 3.5 Ed'.format(self.name, self.profession)\n",
    "    \n",
    "    @property\n",
    "    def charname(self):\n",
    "        return '{} the {}'.format(self.name, self.profession)\n",
    "    \n",
    "    @charname.setter\n",
    "    def charname(self, character):\n",
    "        name, profession = character.split(' the ')\n",
    "        self.name = name\n",
    "        self.profession = profession\n",
    "\n",
    "pc_1 = Player_Character('Legolas', 'Ranger')\n",
    "\n",
    "pc_1.charname = 'Drax the Fighter'\n",
    "\n",
    "print(pc_1.name)\n",
    "print(pc_1.edition)\n",
    "print(pc_1.charname)"
   ]
  },
  {
   "cell_type": "code",
   "execution_count": 41,
   "metadata": {},
   "outputs": [
    {
     "name": "stdout",
     "output_type": "stream",
     "text": [
      "Drax\n",
      "Drax the Fighter: D&D 3.5 Ed\n",
      "Drax the Fighter\n",
      "Remove from party.\n"
     ]
    }
   ],
   "source": [
    "class Player_Character:\n",
    "    \n",
    "    def __init__(self, name, profession):\n",
    "        self.name = name\n",
    "        self.profession = profession\n",
    "        \n",
    "    @property\n",
    "    def edition(self):\n",
    "        return '{} the {}: D&D 3.5 Ed'.format(self.name, self.profession)\n",
    "    \n",
    "    @property\n",
    "    def charname(self):\n",
    "        return '{} the {}'.format(self.name, self.profession)\n",
    "    \n",
    "    @charname.setter\n",
    "    def charname(self, character):\n",
    "        name, profession = character.split(' the ')\n",
    "        self.name = name\n",
    "        self.profession = profession\n",
    "    \n",
    "    @charname.deleter\n",
    "    def charname(self):\n",
    "        print('Remove from party.')\n",
    "        self.name = None\n",
    "        self.profession = None\n",
    "\n",
    "pc_1 = Player_Character('Legolas', 'Ranger')\n",
    "\n",
    "pc_1.charname = 'Drax the Fighter'\n",
    "\n",
    "print(pc_1.name)\n",
    "print(pc_1.edition)\n",
    "print(pc_1.charname)\n",
    "\n",
    "del(pc_1.charname)"
   ]
  },
  {
   "cell_type": "code",
   "execution_count": 42,
   "metadata": {},
   "outputs": [
    {
     "name": "stdout",
     "output_type": "stream",
     "text": [
      "Drax\n",
      "Drax the Fighter: D&D 3.5 Ed\n",
      "Drax the Fighter\n",
      "Remove from party.\n",
      "None\n",
      "None the None: D&D 3.5 Ed\n",
      "None the None\n"
     ]
    }
   ],
   "source": [
    "class Player_Character:\n",
    "    \n",
    "    def __init__(self, name, profession):\n",
    "        self.name = name\n",
    "        self.profession = profession\n",
    "        \n",
    "    @property\n",
    "    def edition(self):\n",
    "        return '{} the {}: D&D 3.5 Ed'.format(self.name, self.profession)\n",
    "    \n",
    "    @property\n",
    "    def charname(self):\n",
    "        return '{} the {}'.format(self.name, self.profession)\n",
    "    \n",
    "    @charname.setter\n",
    "    def charname(self, character):\n",
    "        name, profession = character.split(' the ')\n",
    "        self.name = name\n",
    "        self.profession = profession\n",
    "    \n",
    "    @charname.deleter\n",
    "    def charname(self):\n",
    "        print('Remove from party.')\n",
    "        self.name = None\n",
    "        self.profession = None\n",
    "\n",
    "pc_1 = Player_Character('Legolas', 'Ranger')\n",
    "\n",
    "pc_1.charname = 'Drax the Fighter'\n",
    "\n",
    "print(pc_1.name)\n",
    "print(pc_1.edition)\n",
    "print(pc_1.charname)\n",
    "\n",
    "del(pc_1.charname)\n",
    "\n",
    "print(pc_1.name)\n",
    "print(pc_1.edition)\n",
    "print(pc_1.charname)"
   ]
  },
  {
   "cell_type": "code",
   "execution_count": null,
   "metadata": {},
   "outputs": [],
   "source": []
  }
 ],
 "metadata": {
  "kernelspec": {
   "display_name": "Python 3",
   "language": "python",
   "name": "python3"
  },
  "language_info": {
   "codemirror_mode": {
    "name": "ipython",
    "version": 3
   },
   "file_extension": ".py",
   "mimetype": "text/x-python",
   "name": "python",
   "nbconvert_exporter": "python",
   "pygments_lexer": "ipython3",
   "version": "3.7.4"
  }
 },
 "nbformat": 4,
 "nbformat_minor": 4
}
